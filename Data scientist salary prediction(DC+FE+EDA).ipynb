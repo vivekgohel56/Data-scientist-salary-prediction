{
 "cells": [
  {
   "cell_type": "code",
   "execution_count": 76,
   "metadata": {},
   "outputs": [],
   "source": [
    "import numpy as np\n",
    "import pandas as pd\n",
    "import matplotlib.pyplot as plt\n",
    "%matplotlib inline\n",
    "import seaborn as sns"
   ]
  },
  {
   "cell_type": "markdown",
   "metadata": {},
   "source": [
    "## Data exploration"
   ]
  },
  {
   "cell_type": "code",
   "execution_count": 77,
   "metadata": {},
   "outputs": [
    {
     "data": {
      "text/html": [
       "<div>\n",
       "<style scoped>\n",
       "    .dataframe tbody tr th:only-of-type {\n",
       "        vertical-align: middle;\n",
       "    }\n",
       "\n",
       "    .dataframe tbody tr th {\n",
       "        vertical-align: top;\n",
       "    }\n",
       "\n",
       "    .dataframe thead th {\n",
       "        text-align: right;\n",
       "    }\n",
       "</style>\n",
       "<table border=\"1\" class=\"dataframe\">\n",
       "  <thead>\n",
       "    <tr style=\"text-align: right;\">\n",
       "      <th></th>\n",
       "      <th>Unnamed: 0</th>\n",
       "      <th>Job Title</th>\n",
       "      <th>Salary Estimate</th>\n",
       "      <th>Job Description</th>\n",
       "      <th>Rating</th>\n",
       "      <th>Company Name</th>\n",
       "      <th>Location</th>\n",
       "      <th>Headquarters</th>\n",
       "      <th>Size</th>\n",
       "      <th>Founded</th>\n",
       "      <th>Type of ownership</th>\n",
       "      <th>Industry</th>\n",
       "      <th>Sector</th>\n",
       "      <th>Revenue</th>\n",
       "      <th>Competitors</th>\n",
       "    </tr>\n",
       "  </thead>\n",
       "  <tbody>\n",
       "    <tr>\n",
       "      <th>0</th>\n",
       "      <td>0</td>\n",
       "      <td>Data Scientist</td>\n",
       "      <td>$53K-$91K (Glassdoor est.)</td>\n",
       "      <td>Data Scientist\\nLocation: Albuquerque, NM\\nEdu...</td>\n",
       "      <td>3.8</td>\n",
       "      <td>Tecolote Research\\n3.8</td>\n",
       "      <td>Albuquerque, NM</td>\n",
       "      <td>Goleta, CA</td>\n",
       "      <td>501 to 1000 employees</td>\n",
       "      <td>1973</td>\n",
       "      <td>Company - Private</td>\n",
       "      <td>Aerospace &amp; Defense</td>\n",
       "      <td>Aerospace &amp; Defense</td>\n",
       "      <td>$50 to $100 million (USD)</td>\n",
       "      <td>-1</td>\n",
       "    </tr>\n",
       "    <tr>\n",
       "      <th>1</th>\n",
       "      <td>1</td>\n",
       "      <td>Healthcare Data Scientist</td>\n",
       "      <td>$63K-$112K (Glassdoor est.)</td>\n",
       "      <td>What You Will Do:\\n\\nI. General Summary\\n\\nThe...</td>\n",
       "      <td>3.4</td>\n",
       "      <td>University of Maryland Medical System\\n3.4</td>\n",
       "      <td>Linthicum, MD</td>\n",
       "      <td>Baltimore, MD</td>\n",
       "      <td>10000+ employees</td>\n",
       "      <td>1984</td>\n",
       "      <td>Other Organization</td>\n",
       "      <td>Health Care Services &amp; Hospitals</td>\n",
       "      <td>Health Care</td>\n",
       "      <td>$2 to $5 billion (USD)</td>\n",
       "      <td>-1</td>\n",
       "    </tr>\n",
       "    <tr>\n",
       "      <th>2</th>\n",
       "      <td>2</td>\n",
       "      <td>Data Scientist</td>\n",
       "      <td>$80K-$90K (Glassdoor est.)</td>\n",
       "      <td>KnowBe4, Inc. is a high growth information sec...</td>\n",
       "      <td>4.8</td>\n",
       "      <td>KnowBe4\\n4.8</td>\n",
       "      <td>Clearwater, FL</td>\n",
       "      <td>Clearwater, FL</td>\n",
       "      <td>501 to 1000 employees</td>\n",
       "      <td>2010</td>\n",
       "      <td>Company - Private</td>\n",
       "      <td>Security Services</td>\n",
       "      <td>Business Services</td>\n",
       "      <td>$100 to $500 million (USD)</td>\n",
       "      <td>-1</td>\n",
       "    </tr>\n",
       "    <tr>\n",
       "      <th>3</th>\n",
       "      <td>3</td>\n",
       "      <td>Data Scientist</td>\n",
       "      <td>$56K-$97K (Glassdoor est.)</td>\n",
       "      <td>*Organization and Job ID**\\nJob ID: 310709\\n\\n...</td>\n",
       "      <td>3.8</td>\n",
       "      <td>PNNL\\n3.8</td>\n",
       "      <td>Richland, WA</td>\n",
       "      <td>Richland, WA</td>\n",
       "      <td>1001 to 5000 employees</td>\n",
       "      <td>1965</td>\n",
       "      <td>Government</td>\n",
       "      <td>Energy</td>\n",
       "      <td>Oil, Gas, Energy &amp; Utilities</td>\n",
       "      <td>$500 million to $1 billion (USD)</td>\n",
       "      <td>Oak Ridge National Laboratory, National Renewa...</td>\n",
       "    </tr>\n",
       "    <tr>\n",
       "      <th>4</th>\n",
       "      <td>4</td>\n",
       "      <td>Data Scientist</td>\n",
       "      <td>$86K-$143K (Glassdoor est.)</td>\n",
       "      <td>Data Scientist\\nAffinity Solutions / Marketing...</td>\n",
       "      <td>2.9</td>\n",
       "      <td>Affinity Solutions\\n2.9</td>\n",
       "      <td>New York, NY</td>\n",
       "      <td>New York, NY</td>\n",
       "      <td>51 to 200 employees</td>\n",
       "      <td>1998</td>\n",
       "      <td>Company - Private</td>\n",
       "      <td>Advertising &amp; Marketing</td>\n",
       "      <td>Business Services</td>\n",
       "      <td>Unknown / Non-Applicable</td>\n",
       "      <td>Commerce Signals, Cardlytics, Yodlee</td>\n",
       "    </tr>\n",
       "  </tbody>\n",
       "</table>\n",
       "</div>"
      ],
      "text/plain": [
       "   Unnamed: 0                  Job Title              Salary Estimate  \\\n",
       "0           0             Data Scientist   $53K-$91K (Glassdoor est.)   \n",
       "1           1  Healthcare Data Scientist  $63K-$112K (Glassdoor est.)   \n",
       "2           2             Data Scientist   $80K-$90K (Glassdoor est.)   \n",
       "3           3             Data Scientist   $56K-$97K (Glassdoor est.)   \n",
       "4           4             Data Scientist  $86K-$143K (Glassdoor est.)   \n",
       "\n",
       "                                     Job Description  Rating  \\\n",
       "0  Data Scientist\\nLocation: Albuquerque, NM\\nEdu...     3.8   \n",
       "1  What You Will Do:\\n\\nI. General Summary\\n\\nThe...     3.4   \n",
       "2  KnowBe4, Inc. is a high growth information sec...     4.8   \n",
       "3  *Organization and Job ID**\\nJob ID: 310709\\n\\n...     3.8   \n",
       "4  Data Scientist\\nAffinity Solutions / Marketing...     2.9   \n",
       "\n",
       "                                 Company Name         Location  \\\n",
       "0                      Tecolote Research\\n3.8  Albuquerque, NM   \n",
       "1  University of Maryland Medical System\\n3.4    Linthicum, MD   \n",
       "2                                KnowBe4\\n4.8   Clearwater, FL   \n",
       "3                                   PNNL\\n3.8     Richland, WA   \n",
       "4                     Affinity Solutions\\n2.9     New York, NY   \n",
       "\n",
       "     Headquarters                    Size  Founded   Type of ownership  \\\n",
       "0      Goleta, CA   501 to 1000 employees     1973   Company - Private   \n",
       "1   Baltimore, MD        10000+ employees     1984  Other Organization   \n",
       "2  Clearwater, FL   501 to 1000 employees     2010   Company - Private   \n",
       "3    Richland, WA  1001 to 5000 employees     1965          Government   \n",
       "4    New York, NY     51 to 200 employees     1998   Company - Private   \n",
       "\n",
       "                           Industry                        Sector  \\\n",
       "0               Aerospace & Defense           Aerospace & Defense   \n",
       "1  Health Care Services & Hospitals                   Health Care   \n",
       "2                 Security Services             Business Services   \n",
       "3                            Energy  Oil, Gas, Energy & Utilities   \n",
       "4           Advertising & Marketing             Business Services   \n",
       "\n",
       "                            Revenue  \\\n",
       "0         $50 to $100 million (USD)   \n",
       "1            $2 to $5 billion (USD)   \n",
       "2        $100 to $500 million (USD)   \n",
       "3  $500 million to $1 billion (USD)   \n",
       "4          Unknown / Non-Applicable   \n",
       "\n",
       "                                         Competitors  \n",
       "0                                                 -1  \n",
       "1                                                 -1  \n",
       "2                                                 -1  \n",
       "3  Oak Ridge National Laboratory, National Renewa...  \n",
       "4               Commerce Signals, Cardlytics, Yodlee  "
      ]
     },
     "execution_count": 77,
     "metadata": {},
     "output_type": "execute_result"
    }
   ],
   "source": [
    "df = pd.read_csv('salary.csv')\n",
    "df.head()"
   ]
  },
  {
   "cell_type": "code",
   "execution_count": 78,
   "metadata": {},
   "outputs": [
    {
     "data": {
      "text/html": [
       "<div>\n",
       "<style scoped>\n",
       "    .dataframe tbody tr th:only-of-type {\n",
       "        vertical-align: middle;\n",
       "    }\n",
       "\n",
       "    .dataframe tbody tr th {\n",
       "        vertical-align: top;\n",
       "    }\n",
       "\n",
       "    .dataframe thead th {\n",
       "        text-align: right;\n",
       "    }\n",
       "</style>\n",
       "<table border=\"1\" class=\"dataframe\">\n",
       "  <thead>\n",
       "    <tr style=\"text-align: right;\">\n",
       "      <th></th>\n",
       "      <th>Unnamed: 0</th>\n",
       "      <th>Job Title</th>\n",
       "      <th>Salary Estimate</th>\n",
       "      <th>Job Description</th>\n",
       "      <th>Rating</th>\n",
       "      <th>Company Name</th>\n",
       "      <th>Location</th>\n",
       "      <th>Headquarters</th>\n",
       "      <th>Size</th>\n",
       "      <th>Founded</th>\n",
       "      <th>Type of ownership</th>\n",
       "      <th>Industry</th>\n",
       "      <th>Sector</th>\n",
       "      <th>Revenue</th>\n",
       "      <th>Competitors</th>\n",
       "    </tr>\n",
       "  </thead>\n",
       "  <tbody>\n",
       "    <tr>\n",
       "      <th>951</th>\n",
       "      <td>951</td>\n",
       "      <td>Senior Data Engineer</td>\n",
       "      <td>$72K-$133K (Glassdoor est.)</td>\n",
       "      <td>THE CHALLENGE\\nEventbrite has a world-class da...</td>\n",
       "      <td>4.4</td>\n",
       "      <td>Eventbrite\\n4.4</td>\n",
       "      <td>Nashville, TN</td>\n",
       "      <td>San Francisco, CA</td>\n",
       "      <td>1001 to 5000 employees</td>\n",
       "      <td>2006</td>\n",
       "      <td>Company - Public</td>\n",
       "      <td>Internet</td>\n",
       "      <td>Information Technology</td>\n",
       "      <td>$100 to $500 million (USD)</td>\n",
       "      <td>See Tickets, TicketWeb, Vendini</td>\n",
       "    </tr>\n",
       "    <tr>\n",
       "      <th>952</th>\n",
       "      <td>952</td>\n",
       "      <td>Project Scientist - Auton Lab, Robotics Institute</td>\n",
       "      <td>$56K-$91K (Glassdoor est.)</td>\n",
       "      <td>The Auton Lab at Carnegie Mellon University is...</td>\n",
       "      <td>2.6</td>\n",
       "      <td>Software Engineering Institute\\n2.6</td>\n",
       "      <td>Pittsburgh, PA</td>\n",
       "      <td>Pittsburgh, PA</td>\n",
       "      <td>501 to 1000 employees</td>\n",
       "      <td>1984</td>\n",
       "      <td>College / University</td>\n",
       "      <td>Colleges &amp; Universities</td>\n",
       "      <td>Education</td>\n",
       "      <td>Unknown / Non-Applicable</td>\n",
       "      <td>-1</td>\n",
       "    </tr>\n",
       "    <tr>\n",
       "      <th>953</th>\n",
       "      <td>953</td>\n",
       "      <td>Data Science Manager</td>\n",
       "      <td>$95K-$160K (Glassdoor est.)</td>\n",
       "      <td>Data Science ManagerResponsibilities:\\n\\nOvers...</td>\n",
       "      <td>3.2</td>\n",
       "      <td>Numeric, LLC\\n3.2</td>\n",
       "      <td>Allentown, PA</td>\n",
       "      <td>Chadds Ford, PA</td>\n",
       "      <td>1 to 50 employees</td>\n",
       "      <td>-1</td>\n",
       "      <td>Company - Private</td>\n",
       "      <td>Staffing &amp; Outsourcing</td>\n",
       "      <td>Business Services</td>\n",
       "      <td>$5 to $10 million (USD)</td>\n",
       "      <td>-1</td>\n",
       "    </tr>\n",
       "    <tr>\n",
       "      <th>954</th>\n",
       "      <td>954</td>\n",
       "      <td>Data Engineer</td>\n",
       "      <td>-1</td>\n",
       "      <td>Loading...\\n\\nTitle: Data Engineer\\n\\nLocation...</td>\n",
       "      <td>4.8</td>\n",
       "      <td>IGNW\\n4.8</td>\n",
       "      <td>Austin, TX</td>\n",
       "      <td>Portland, OR</td>\n",
       "      <td>201 to 500 employees</td>\n",
       "      <td>2015</td>\n",
       "      <td>Company - Private</td>\n",
       "      <td>IT Services</td>\n",
       "      <td>Information Technology</td>\n",
       "      <td>$25 to $50 million (USD)</td>\n",
       "      <td>Slalom</td>\n",
       "    </tr>\n",
       "    <tr>\n",
       "      <th>955</th>\n",
       "      <td>955</td>\n",
       "      <td>Research Scientist – Security and Privacy</td>\n",
       "      <td>$61K-$126K (Glassdoor est.)</td>\n",
       "      <td>Returning Candidate? Log back in to the Career...</td>\n",
       "      <td>3.6</td>\n",
       "      <td>Riverside Research Institute\\n3.6</td>\n",
       "      <td>Beavercreek, OH</td>\n",
       "      <td>Arlington, VA</td>\n",
       "      <td>501 to 1000 employees</td>\n",
       "      <td>1967</td>\n",
       "      <td>Nonprofit Organization</td>\n",
       "      <td>Federal Agencies</td>\n",
       "      <td>Government</td>\n",
       "      <td>$50 to $100 million (USD)</td>\n",
       "      <td>-1</td>\n",
       "    </tr>\n",
       "  </tbody>\n",
       "</table>\n",
       "</div>"
      ],
      "text/plain": [
       "     Unnamed: 0                                          Job Title  \\\n",
       "951         951                               Senior Data Engineer   \n",
       "952         952  Project Scientist - Auton Lab, Robotics Institute   \n",
       "953         953                               Data Science Manager   \n",
       "954         954                                      Data Engineer   \n",
       "955         955          Research Scientist – Security and Privacy   \n",
       "\n",
       "                 Salary Estimate  \\\n",
       "951  $72K-$133K (Glassdoor est.)   \n",
       "952   $56K-$91K (Glassdoor est.)   \n",
       "953  $95K-$160K (Glassdoor est.)   \n",
       "954                           -1   \n",
       "955  $61K-$126K (Glassdoor est.)   \n",
       "\n",
       "                                       Job Description  Rating  \\\n",
       "951  THE CHALLENGE\\nEventbrite has a world-class da...     4.4   \n",
       "952  The Auton Lab at Carnegie Mellon University is...     2.6   \n",
       "953  Data Science ManagerResponsibilities:\\n\\nOvers...     3.2   \n",
       "954  Loading...\\n\\nTitle: Data Engineer\\n\\nLocation...     4.8   \n",
       "955  Returning Candidate? Log back in to the Career...     3.6   \n",
       "\n",
       "                            Company Name         Location       Headquarters  \\\n",
       "951                      Eventbrite\\n4.4    Nashville, TN  San Francisco, CA   \n",
       "952  Software Engineering Institute\\n2.6   Pittsburgh, PA     Pittsburgh, PA   \n",
       "953                    Numeric, LLC\\n3.2    Allentown, PA    Chadds Ford, PA   \n",
       "954                            IGNW\\n4.8       Austin, TX       Portland, OR   \n",
       "955    Riverside Research Institute\\n3.6  Beavercreek, OH      Arlington, VA   \n",
       "\n",
       "                       Size  Founded       Type of ownership  \\\n",
       "951  1001 to 5000 employees     2006        Company - Public   \n",
       "952   501 to 1000 employees     1984    College / University   \n",
       "953       1 to 50 employees       -1       Company - Private   \n",
       "954    201 to 500 employees     2015       Company - Private   \n",
       "955   501 to 1000 employees     1967  Nonprofit Organization   \n",
       "\n",
       "                    Industry                  Sector  \\\n",
       "951                 Internet  Information Technology   \n",
       "952  Colleges & Universities               Education   \n",
       "953   Staffing & Outsourcing       Business Services   \n",
       "954              IT Services  Information Technology   \n",
       "955         Federal Agencies              Government   \n",
       "\n",
       "                        Revenue                      Competitors  \n",
       "951  $100 to $500 million (USD)  See Tickets, TicketWeb, Vendini  \n",
       "952    Unknown / Non-Applicable                               -1  \n",
       "953     $5 to $10 million (USD)                               -1  \n",
       "954    $25 to $50 million (USD)                           Slalom  \n",
       "955   $50 to $100 million (USD)                               -1  "
      ]
     },
     "execution_count": 78,
     "metadata": {},
     "output_type": "execute_result"
    }
   ],
   "source": [
    "df.tail()"
   ]
  },
  {
   "cell_type": "code",
   "execution_count": 79,
   "metadata": {},
   "outputs": [
    {
     "data": {
      "text/plain": [
       "(956, 15)"
      ]
     },
     "execution_count": 79,
     "metadata": {},
     "output_type": "execute_result"
    }
   ],
   "source": [
    "df.shape"
   ]
  },
  {
   "cell_type": "code",
   "execution_count": 80,
   "metadata": {},
   "outputs": [
    {
     "data": {
      "text/plain": [
       "Unnamed: 0             int64\n",
       "Job Title             object\n",
       "Salary Estimate       object\n",
       "Job Description       object\n",
       "Rating               float64\n",
       "Company Name          object\n",
       "Location              object\n",
       "Headquarters          object\n",
       "Size                  object\n",
       "Founded                int64\n",
       "Type of ownership     object\n",
       "Industry              object\n",
       "Sector                object\n",
       "Revenue               object\n",
       "Competitors           object\n",
       "dtype: object"
      ]
     },
     "execution_count": 80,
     "metadata": {},
     "output_type": "execute_result"
    }
   ],
   "source": [
    "df.dtypes"
   ]
  },
  {
   "cell_type": "code",
   "execution_count": 81,
   "metadata": {},
   "outputs": [
    {
     "data": {
      "text/plain": [
       "Index(['Unnamed: 0', 'Job Title', 'Salary Estimate', 'Job Description',\n",
       "       'Rating', 'Company Name', 'Location', 'Headquarters', 'Size', 'Founded',\n",
       "       'Type of ownership', 'Industry', 'Sector', 'Revenue', 'Competitors'],\n",
       "      dtype='object')"
      ]
     },
     "execution_count": 81,
     "metadata": {},
     "output_type": "execute_result"
    }
   ],
   "source": [
    "df.columns"
   ]
  },
  {
   "cell_type": "code",
   "execution_count": 82,
   "metadata": {},
   "outputs": [
    {
     "name": "stdout",
     "output_type": "stream",
     "text": [
      "<class 'pandas.core.frame.DataFrame'>\n",
      "RangeIndex: 956 entries, 0 to 955\n",
      "Data columns (total 15 columns):\n",
      " #   Column             Non-Null Count  Dtype  \n",
      "---  ------             --------------  -----  \n",
      " 0   Unnamed: 0         956 non-null    int64  \n",
      " 1   Job Title          956 non-null    object \n",
      " 2   Salary Estimate    956 non-null    object \n",
      " 3   Job Description    956 non-null    object \n",
      " 4   Rating             956 non-null    float64\n",
      " 5   Company Name       956 non-null    object \n",
      " 6   Location           956 non-null    object \n",
      " 7   Headquarters       956 non-null    object \n",
      " 8   Size               956 non-null    object \n",
      " 9   Founded            956 non-null    int64  \n",
      " 10  Type of ownership  956 non-null    object \n",
      " 11  Industry           956 non-null    object \n",
      " 12  Sector             956 non-null    object \n",
      " 13  Revenue            956 non-null    object \n",
      " 14  Competitors        956 non-null    object \n",
      "dtypes: float64(1), int64(2), object(12)\n",
      "memory usage: 112.2+ KB\n"
     ]
    }
   ],
   "source": [
    "df.info()"
   ]
  },
  {
   "cell_type": "code",
   "execution_count": 83,
   "metadata": {},
   "outputs": [
    {
     "data": {
      "text/plain": [
       "Unnamed: 0           False\n",
       "Job Title            False\n",
       "Salary Estimate      False\n",
       "Job Description      False\n",
       "Rating               False\n",
       "Company Name         False\n",
       "Location             False\n",
       "Headquarters         False\n",
       "Size                 False\n",
       "Founded              False\n",
       "Type of ownership    False\n",
       "Industry             False\n",
       "Sector               False\n",
       "Revenue              False\n",
       "Competitors          False\n",
       "dtype: bool"
      ]
     },
     "execution_count": 83,
     "metadata": {},
     "output_type": "execute_result"
    }
   ],
   "source": [
    "df.isnull().any()"
   ]
  },
  {
   "cell_type": "markdown",
   "metadata": {},
   "source": [
    "There is no null values"
   ]
  },
  {
   "cell_type": "markdown",
   "metadata": {},
   "source": [
    "## Data Cleaning"
   ]
  },
  {
   "cell_type": "code",
   "execution_count": 84,
   "metadata": {},
   "outputs": [],
   "source": [
    "df.drop('Unnamed: 0', axis=1, inplace=True)"
   ]
  },
  {
   "cell_type": "code",
   "execution_count": 85,
   "metadata": {},
   "outputs": [
    {
     "data": {
      "text/html": [
       "<div>\n",
       "<style scoped>\n",
       "    .dataframe tbody tr th:only-of-type {\n",
       "        vertical-align: middle;\n",
       "    }\n",
       "\n",
       "    .dataframe tbody tr th {\n",
       "        vertical-align: top;\n",
       "    }\n",
       "\n",
       "    .dataframe thead th {\n",
       "        text-align: right;\n",
       "    }\n",
       "</style>\n",
       "<table border=\"1\" class=\"dataframe\">\n",
       "  <thead>\n",
       "    <tr style=\"text-align: right;\">\n",
       "      <th></th>\n",
       "      <th>Job Title</th>\n",
       "      <th>Salary Estimate</th>\n",
       "      <th>Job Description</th>\n",
       "      <th>Rating</th>\n",
       "      <th>Company Name</th>\n",
       "      <th>Location</th>\n",
       "      <th>Headquarters</th>\n",
       "      <th>Size</th>\n",
       "      <th>Founded</th>\n",
       "      <th>Type of ownership</th>\n",
       "      <th>Industry</th>\n",
       "      <th>Sector</th>\n",
       "      <th>Revenue</th>\n",
       "      <th>Competitors</th>\n",
       "    </tr>\n",
       "  </thead>\n",
       "  <tbody>\n",
       "    <tr>\n",
       "      <th>951</th>\n",
       "      <td>Senior Data Engineer</td>\n",
       "      <td>$72K-$133K (Glassdoor est.)</td>\n",
       "      <td>THE CHALLENGE\\nEventbrite has a world-class da...</td>\n",
       "      <td>4.4</td>\n",
       "      <td>Eventbrite\\n4.4</td>\n",
       "      <td>Nashville, TN</td>\n",
       "      <td>San Francisco, CA</td>\n",
       "      <td>1001 to 5000 employees</td>\n",
       "      <td>2006</td>\n",
       "      <td>Company - Public</td>\n",
       "      <td>Internet</td>\n",
       "      <td>Information Technology</td>\n",
       "      <td>$100 to $500 million (USD)</td>\n",
       "      <td>See Tickets, TicketWeb, Vendini</td>\n",
       "    </tr>\n",
       "    <tr>\n",
       "      <th>952</th>\n",
       "      <td>Project Scientist - Auton Lab, Robotics Institute</td>\n",
       "      <td>$56K-$91K (Glassdoor est.)</td>\n",
       "      <td>The Auton Lab at Carnegie Mellon University is...</td>\n",
       "      <td>2.6</td>\n",
       "      <td>Software Engineering Institute\\n2.6</td>\n",
       "      <td>Pittsburgh, PA</td>\n",
       "      <td>Pittsburgh, PA</td>\n",
       "      <td>501 to 1000 employees</td>\n",
       "      <td>1984</td>\n",
       "      <td>College / University</td>\n",
       "      <td>Colleges &amp; Universities</td>\n",
       "      <td>Education</td>\n",
       "      <td>Unknown / Non-Applicable</td>\n",
       "      <td>-1</td>\n",
       "    </tr>\n",
       "    <tr>\n",
       "      <th>953</th>\n",
       "      <td>Data Science Manager</td>\n",
       "      <td>$95K-$160K (Glassdoor est.)</td>\n",
       "      <td>Data Science ManagerResponsibilities:\\n\\nOvers...</td>\n",
       "      <td>3.2</td>\n",
       "      <td>Numeric, LLC\\n3.2</td>\n",
       "      <td>Allentown, PA</td>\n",
       "      <td>Chadds Ford, PA</td>\n",
       "      <td>1 to 50 employees</td>\n",
       "      <td>-1</td>\n",
       "      <td>Company - Private</td>\n",
       "      <td>Staffing &amp; Outsourcing</td>\n",
       "      <td>Business Services</td>\n",
       "      <td>$5 to $10 million (USD)</td>\n",
       "      <td>-1</td>\n",
       "    </tr>\n",
       "    <tr>\n",
       "      <th>954</th>\n",
       "      <td>Data Engineer</td>\n",
       "      <td>-1</td>\n",
       "      <td>Loading...\\n\\nTitle: Data Engineer\\n\\nLocation...</td>\n",
       "      <td>4.8</td>\n",
       "      <td>IGNW\\n4.8</td>\n",
       "      <td>Austin, TX</td>\n",
       "      <td>Portland, OR</td>\n",
       "      <td>201 to 500 employees</td>\n",
       "      <td>2015</td>\n",
       "      <td>Company - Private</td>\n",
       "      <td>IT Services</td>\n",
       "      <td>Information Technology</td>\n",
       "      <td>$25 to $50 million (USD)</td>\n",
       "      <td>Slalom</td>\n",
       "    </tr>\n",
       "    <tr>\n",
       "      <th>955</th>\n",
       "      <td>Research Scientist – Security and Privacy</td>\n",
       "      <td>$61K-$126K (Glassdoor est.)</td>\n",
       "      <td>Returning Candidate? Log back in to the Career...</td>\n",
       "      <td>3.6</td>\n",
       "      <td>Riverside Research Institute\\n3.6</td>\n",
       "      <td>Beavercreek, OH</td>\n",
       "      <td>Arlington, VA</td>\n",
       "      <td>501 to 1000 employees</td>\n",
       "      <td>1967</td>\n",
       "      <td>Nonprofit Organization</td>\n",
       "      <td>Federal Agencies</td>\n",
       "      <td>Government</td>\n",
       "      <td>$50 to $100 million (USD)</td>\n",
       "      <td>-1</td>\n",
       "    </tr>\n",
       "  </tbody>\n",
       "</table>\n",
       "</div>"
      ],
      "text/plain": [
       "                                             Job Title  \\\n",
       "951                               Senior Data Engineer   \n",
       "952  Project Scientist - Auton Lab, Robotics Institute   \n",
       "953                               Data Science Manager   \n",
       "954                                      Data Engineer   \n",
       "955          Research Scientist – Security and Privacy   \n",
       "\n",
       "                 Salary Estimate  \\\n",
       "951  $72K-$133K (Glassdoor est.)   \n",
       "952   $56K-$91K (Glassdoor est.)   \n",
       "953  $95K-$160K (Glassdoor est.)   \n",
       "954                           -1   \n",
       "955  $61K-$126K (Glassdoor est.)   \n",
       "\n",
       "                                       Job Description  Rating  \\\n",
       "951  THE CHALLENGE\\nEventbrite has a world-class da...     4.4   \n",
       "952  The Auton Lab at Carnegie Mellon University is...     2.6   \n",
       "953  Data Science ManagerResponsibilities:\\n\\nOvers...     3.2   \n",
       "954  Loading...\\n\\nTitle: Data Engineer\\n\\nLocation...     4.8   \n",
       "955  Returning Candidate? Log back in to the Career...     3.6   \n",
       "\n",
       "                            Company Name         Location       Headquarters  \\\n",
       "951                      Eventbrite\\n4.4    Nashville, TN  San Francisco, CA   \n",
       "952  Software Engineering Institute\\n2.6   Pittsburgh, PA     Pittsburgh, PA   \n",
       "953                    Numeric, LLC\\n3.2    Allentown, PA    Chadds Ford, PA   \n",
       "954                            IGNW\\n4.8       Austin, TX       Portland, OR   \n",
       "955    Riverside Research Institute\\n3.6  Beavercreek, OH      Arlington, VA   \n",
       "\n",
       "                       Size  Founded       Type of ownership  \\\n",
       "951  1001 to 5000 employees     2006        Company - Public   \n",
       "952   501 to 1000 employees     1984    College / University   \n",
       "953       1 to 50 employees       -1       Company - Private   \n",
       "954    201 to 500 employees     2015       Company - Private   \n",
       "955   501 to 1000 employees     1967  Nonprofit Organization   \n",
       "\n",
       "                    Industry                  Sector  \\\n",
       "951                 Internet  Information Technology   \n",
       "952  Colleges & Universities               Education   \n",
       "953   Staffing & Outsourcing       Business Services   \n",
       "954              IT Services  Information Technology   \n",
       "955         Federal Agencies              Government   \n",
       "\n",
       "                        Revenue                      Competitors  \n",
       "951  $100 to $500 million (USD)  See Tickets, TicketWeb, Vendini  \n",
       "952    Unknown / Non-Applicable                               -1  \n",
       "953     $5 to $10 million (USD)                               -1  \n",
       "954    $25 to $50 million (USD)                           Slalom  \n",
       "955   $50 to $100 million (USD)                               -1  "
      ]
     },
     "execution_count": 85,
     "metadata": {},
     "output_type": "execute_result"
    }
   ],
   "source": [
    "df.tail()"
   ]
  },
  {
   "cell_type": "code",
   "execution_count": 86,
   "metadata": {},
   "outputs": [
    {
     "data": {
      "text/plain": [
       "(956, 14)"
      ]
     },
     "execution_count": 86,
     "metadata": {},
     "output_type": "execute_result"
    }
   ],
   "source": [
    "df.shape"
   ]
  },
  {
   "cell_type": "code",
   "execution_count": 87,
   "metadata": {},
   "outputs": [],
   "source": [
    "#removing -1 column containing in salary estimate rows\n",
    "df = df[df['Salary Estimate'] != \"-1\"]"
   ]
  },
  {
   "cell_type": "code",
   "execution_count": 88,
   "metadata": {},
   "outputs": [
    {
     "data": {
      "text/plain": [
       "(742, 14)"
      ]
     },
     "execution_count": 88,
     "metadata": {},
     "output_type": "execute_result"
    }
   ],
   "source": [
    "df.shape"
   ]
  },
  {
   "cell_type": "code",
   "execution_count": 89,
   "metadata": {},
   "outputs": [],
   "source": [
    "#removing the text value from the salary estimate\n",
    "salary = df['Salary Estimate'].apply(lambda x:x.split('(')[0])"
   ]
  },
  {
   "cell_type": "code",
   "execution_count": 90,
   "metadata": {},
   "outputs": [
    {
     "data": {
      "text/plain": [
       "0       $53K-$91K \n",
       "1      $63K-$112K \n",
       "2       $80K-$90K \n",
       "3       $56K-$97K \n",
       "4      $86K-$143K \n",
       "          ...     \n",
       "950    $58K-$111K \n",
       "951    $72K-$133K \n",
       "952     $56K-$91K \n",
       "953    $95K-$160K \n",
       "955    $61K-$126K \n",
       "Name: Salary Estimate, Length: 742, dtype: object"
      ]
     },
     "execution_count": 90,
     "metadata": {},
     "output_type": "execute_result"
    }
   ],
   "source": [
    "salary"
   ]
  },
  {
   "cell_type": "code",
   "execution_count": 91,
   "metadata": {},
   "outputs": [
    {
     "data": {
      "text/plain": [
       "0       53-91 \n",
       "1      63-112 \n",
       "2       80-90 \n",
       "3       56-97 \n",
       "4      86-143 \n",
       "        ...   \n",
       "950    58-111 \n",
       "951    72-133 \n",
       "952     56-91 \n",
       "953    95-160 \n",
       "955    61-126 \n",
       "Name: Salary Estimate, Length: 742, dtype: object"
      ]
     },
     "execution_count": 91,
     "metadata": {},
     "output_type": "execute_result"
    }
   ],
   "source": [
    "#now removing $ and K from that column\n",
    "salary = salary.apply(lambda x:x.replace('$','').replace('K',''))\n",
    "salary"
   ]
  },
  {
   "cell_type": "code",
   "execution_count": 92,
   "metadata": {},
   "outputs": [
    {
     "data": {
      "text/plain": [
       "array(['77-132 ', '59-112 ', '35-65 ', '79-147 ', '119-187 ', '90-157 ',\n",
       "       '32-62 ', '116-208 ', '102-165 ', '91-159 ', '80-133 ', '39-69 ',\n",
       "       '27-48 ', '36-71 ', '130-206 ', '99-178 ', '86-137 ', '37-100 ',\n",
       "       '58-111 ', '72-133 ', '61-126 ', '95-160 ', '33-61 ', '69-119 ',\n",
       "       '67-127 ', '66-117 ', '50-98 ', '90-153 ',\n",
       "       'Employer Provided Salary:100-135', '42-79 ', '84-153 ', '44-73 ',\n",
       "       '40-87 ', '72-142 ', '74-137 ', '57-109 ', '136-208 ', '171-272 ',\n",
       "       '65-126 ', '118-228 ', '113-182 ', '58-104 ', '58-108 ', '81-161 ',\n",
       "       '115-220 ', '71-144 ', '32-57 ', '79-136 ', '48-113 ',\n",
       "       '27-47 Per Hour', '68-125 ', '39-67 ', '71-135 ', '61-123 ',\n",
       "       '87-141 ', '71-121 ', '72-121 ', '51-88 ', '101-141 ', '79-127 ',\n",
       "       '81-132 ', 'Employer Provided Salary:120-140', '65-113 ',\n",
       "       '59-125 ', '80-142 ', '62-113 '], dtype=object)"
      ]
     },
     "execution_count": 92,
     "metadata": {},
     "output_type": "execute_result"
    }
   ],
   "source": [
    "salary.unique()[350:]"
   ]
  },
  {
   "cell_type": "code",
   "execution_count": 93,
   "metadata": {},
   "outputs": [],
   "source": [
    "#making new column for per hour and emp-provided-salary\n",
    "df['salary_per_hour'] = salary.apply(lambda x: 1 if 'per hour' in x.lower() else 0)"
   ]
  },
  {
   "cell_type": "code",
   "execution_count": 94,
   "metadata": {},
   "outputs": [
    {
     "data": {
      "text/plain": [
       "0    718\n",
       "1     24\n",
       "Name: salary_per_hour, dtype: int64"
      ]
     },
     "execution_count": 94,
     "metadata": {},
     "output_type": "execute_result"
    }
   ],
   "source": [
    "df['salary_per_hour'].value_counts()"
   ]
  },
  {
   "cell_type": "code",
   "execution_count": 95,
   "metadata": {},
   "outputs": [],
   "source": [
    "df['emp-provided-salary'] = salary.apply(lambda x: 1 if 'employer provided salary' in x.lower() else 0)"
   ]
  },
  {
   "cell_type": "code",
   "execution_count": 96,
   "metadata": {},
   "outputs": [
    {
     "data": {
      "text/plain": [
       "0    725\n",
       "1     17\n",
       "Name: emp-provided-salary, dtype: int64"
      ]
     },
     "execution_count": 96,
     "metadata": {},
     "output_type": "execute_result"
    }
   ],
   "source": [
    "df['emp-provided-salary'] .value_counts()"
   ]
  },
  {
   "cell_type": "code",
   "execution_count": 97,
   "metadata": {},
   "outputs": [],
   "source": [
    "salary = salary.apply(lambda x: x.lower().replace('per hour', '').replace('employer provided salary:', '').replace(' ',''))"
   ]
  },
  {
   "cell_type": "code",
   "execution_count": 98,
   "metadata": {},
   "outputs": [
    {
     "data": {
      "text/plain": [
       "array(['77-132', '59-112', '35-65', '79-147', '119-187', '90-157',\n",
       "       '32-62', '116-208', '102-165', '91-159', '80-133', '39-69',\n",
       "       '27-48', '36-71', '130-206', '99-178', '86-137', '37-100',\n",
       "       '58-111', '72-133', '61-126', '95-160', '33-61', '69-119',\n",
       "       '67-127', '66-117', '50-98', '90-153', '100-135', '42-79',\n",
       "       '84-153', '44-73', '40-87', '72-142', '74-137', '57-109',\n",
       "       '136-208', '171-272', '65-126', '118-228', '113-182', '58-104',\n",
       "       '58-108', '81-161', '115-220', '71-144', '32-57', '79-136',\n",
       "       '48-113', '27-47', '68-125', '39-67', '71-135', '61-123', '87-141',\n",
       "       '71-121', '72-121', '51-88', '101-141', '79-127', '81-132',\n",
       "       '120-140', '65-113', '59-125', '80-142', '62-113'], dtype=object)"
      ]
     },
     "execution_count": 98,
     "metadata": {},
     "output_type": "execute_result"
    }
   ],
   "source": [
    "salary.unique()[350:]"
   ]
  },
  {
   "cell_type": "code",
   "execution_count": 99,
   "metadata": {},
   "outputs": [],
   "source": [
    "#creating a column for min_slary and max_salary\n",
    "df['min_salary'] = salary.apply(lambda x: int(x.split('-')[0]))"
   ]
  },
  {
   "cell_type": "code",
   "execution_count": 100,
   "metadata": {},
   "outputs": [
    {
     "data": {
      "text/plain": [
       "950    58\n",
       "951    72\n",
       "952    56\n",
       "953    95\n",
       "955    61\n",
       "Name: min_salary, dtype: int64"
      ]
     },
     "execution_count": 100,
     "metadata": {},
     "output_type": "execute_result"
    }
   ],
   "source": [
    "df['min_salary'].tail()"
   ]
  },
  {
   "cell_type": "code",
   "execution_count": 101,
   "metadata": {},
   "outputs": [],
   "source": [
    "df['max_salary'] = salary.apply(lambda x: int(x.split('-')[1]))"
   ]
  },
  {
   "cell_type": "code",
   "execution_count": 102,
   "metadata": {},
   "outputs": [
    {
     "data": {
      "text/plain": [
       "950    111\n",
       "951    133\n",
       "952     91\n",
       "953    160\n",
       "955    126\n",
       "Name: max_salary, dtype: int64"
      ]
     },
     "execution_count": 102,
     "metadata": {},
     "output_type": "execute_result"
    }
   ],
   "source": [
    "df['max_salary'].tail()"
   ]
  },
  {
   "cell_type": "code",
   "execution_count": 103,
   "metadata": {},
   "outputs": [],
   "source": [
    "#creating column for average salray\n",
    "df['average_salary'] = (df['min_salary'] + df['max_salary'])/2"
   ]
  },
  {
   "cell_type": "code",
   "execution_count": 104,
   "metadata": {},
   "outputs": [],
   "source": [
    "df['min_salary'] = df.apply(lambda x: x['min_salary']*2 if x['salary_per_hour'] == 1 else x['min_salary'], axis=1)"
   ]
  },
  {
   "cell_type": "code",
   "execution_count": 105,
   "metadata": {},
   "outputs": [],
   "source": [
    "df['max_salary'] = df.apply(lambda x: x['max_salary']*2 if x['salary_per_hour'] == 1 else x['max_salary'], axis=1)"
   ]
  },
  {
   "cell_type": "code",
   "execution_count": 106,
   "metadata": {},
   "outputs": [
    {
     "data": {
      "text/html": [
       "<div>\n",
       "<style scoped>\n",
       "    .dataframe tbody tr th:only-of-type {\n",
       "        vertical-align: middle;\n",
       "    }\n",
       "\n",
       "    .dataframe tbody tr th {\n",
       "        vertical-align: top;\n",
       "    }\n",
       "\n",
       "    .dataframe thead th {\n",
       "        text-align: right;\n",
       "    }\n",
       "</style>\n",
       "<table border=\"1\" class=\"dataframe\">\n",
       "  <thead>\n",
       "    <tr style=\"text-align: right;\">\n",
       "      <th></th>\n",
       "      <th>salary_per_hour</th>\n",
       "      <th>min_salary</th>\n",
       "      <th>max_salary</th>\n",
       "    </tr>\n",
       "  </thead>\n",
       "  <tbody>\n",
       "    <tr>\n",
       "      <th>197</th>\n",
       "      <td>1</td>\n",
       "      <td>34</td>\n",
       "      <td>48</td>\n",
       "    </tr>\n",
       "    <tr>\n",
       "      <th>209</th>\n",
       "      <td>1</td>\n",
       "      <td>42</td>\n",
       "      <td>68</td>\n",
       "    </tr>\n",
       "    <tr>\n",
       "      <th>240</th>\n",
       "      <td>1</td>\n",
       "      <td>36</td>\n",
       "      <td>50</td>\n",
       "    </tr>\n",
       "    <tr>\n",
       "      <th>247</th>\n",
       "      <td>1</td>\n",
       "      <td>42</td>\n",
       "      <td>68</td>\n",
       "    </tr>\n",
       "    <tr>\n",
       "      <th>257</th>\n",
       "      <td>1</td>\n",
       "      <td>30</td>\n",
       "      <td>50</td>\n",
       "    </tr>\n",
       "    <tr>\n",
       "      <th>307</th>\n",
       "      <td>1</td>\n",
       "      <td>34</td>\n",
       "      <td>48</td>\n",
       "    </tr>\n",
       "    <tr>\n",
       "      <th>337</th>\n",
       "      <td>1</td>\n",
       "      <td>42</td>\n",
       "      <td>68</td>\n",
       "    </tr>\n",
       "    <tr>\n",
       "      <th>427</th>\n",
       "      <td>1</td>\n",
       "      <td>36</td>\n",
       "      <td>50</td>\n",
       "    </tr>\n",
       "    <tr>\n",
       "      <th>437</th>\n",
       "      <td>1</td>\n",
       "      <td>48</td>\n",
       "      <td>78</td>\n",
       "    </tr>\n",
       "    <tr>\n",
       "      <th>456</th>\n",
       "      <td>1</td>\n",
       "      <td>42</td>\n",
       "      <td>68</td>\n",
       "    </tr>\n",
       "    <tr>\n",
       "      <th>464</th>\n",
       "      <td>1</td>\n",
       "      <td>50</td>\n",
       "      <td>56</td>\n",
       "    </tr>\n",
       "    <tr>\n",
       "      <th>522</th>\n",
       "      <td>1</td>\n",
       "      <td>42</td>\n",
       "      <td>58</td>\n",
       "    </tr>\n",
       "    <tr>\n",
       "      <th>523</th>\n",
       "      <td>1</td>\n",
       "      <td>20</td>\n",
       "      <td>34</td>\n",
       "    </tr>\n",
       "    <tr>\n",
       "      <th>632</th>\n",
       "      <td>1</td>\n",
       "      <td>36</td>\n",
       "      <td>50</td>\n",
       "    </tr>\n",
       "    <tr>\n",
       "      <th>652</th>\n",
       "      <td>1</td>\n",
       "      <td>48</td>\n",
       "      <td>78</td>\n",
       "    </tr>\n",
       "    <tr>\n",
       "      <th>682</th>\n",
       "      <td>1</td>\n",
       "      <td>42</td>\n",
       "      <td>68</td>\n",
       "    </tr>\n",
       "    <tr>\n",
       "      <th>694</th>\n",
       "      <td>1</td>\n",
       "      <td>50</td>\n",
       "      <td>56</td>\n",
       "    </tr>\n",
       "    <tr>\n",
       "      <th>786</th>\n",
       "      <td>1</td>\n",
       "      <td>42</td>\n",
       "      <td>58</td>\n",
       "    </tr>\n",
       "    <tr>\n",
       "      <th>787</th>\n",
       "      <td>1</td>\n",
       "      <td>20</td>\n",
       "      <td>34</td>\n",
       "    </tr>\n",
       "    <tr>\n",
       "      <th>823</th>\n",
       "      <td>1</td>\n",
       "      <td>54</td>\n",
       "      <td>94</td>\n",
       "    </tr>\n",
       "    <tr>\n",
       "      <th>854</th>\n",
       "      <td>1</td>\n",
       "      <td>36</td>\n",
       "      <td>50</td>\n",
       "    </tr>\n",
       "    <tr>\n",
       "      <th>875</th>\n",
       "      <td>1</td>\n",
       "      <td>48</td>\n",
       "      <td>78</td>\n",
       "    </tr>\n",
       "    <tr>\n",
       "      <th>919</th>\n",
       "      <td>1</td>\n",
       "      <td>42</td>\n",
       "      <td>68</td>\n",
       "    </tr>\n",
       "    <tr>\n",
       "      <th>936</th>\n",
       "      <td>1</td>\n",
       "      <td>50</td>\n",
       "      <td>56</td>\n",
       "    </tr>\n",
       "  </tbody>\n",
       "</table>\n",
       "</div>"
      ],
      "text/plain": [
       "     salary_per_hour  min_salary  max_salary\n",
       "197                1          34          48\n",
       "209                1          42          68\n",
       "240                1          36          50\n",
       "247                1          42          68\n",
       "257                1          30          50\n",
       "307                1          34          48\n",
       "337                1          42          68\n",
       "427                1          36          50\n",
       "437                1          48          78\n",
       "456                1          42          68\n",
       "464                1          50          56\n",
       "522                1          42          58\n",
       "523                1          20          34\n",
       "632                1          36          50\n",
       "652                1          48          78\n",
       "682                1          42          68\n",
       "694                1          50          56\n",
       "786                1          42          58\n",
       "787                1          20          34\n",
       "823                1          54          94\n",
       "854                1          36          50\n",
       "875                1          48          78\n",
       "919                1          42          68\n",
       "936                1          50          56"
      ]
     },
     "execution_count": 106,
     "metadata": {},
     "output_type": "execute_result"
    }
   ],
   "source": [
    "df[df['salary_per_hour'] == 1][['salary_per_hour','min_salary','max_salary']]"
   ]
  },
  {
   "cell_type": "code",
   "execution_count": 107,
   "metadata": {},
   "outputs": [],
   "source": [
    "# Removing the number from company name \n",
    "df['Company Name'] = df['Company Name'].apply(lambda x: x.split('\\n')[0])"
   ]
  },
  {
   "cell_type": "code",
   "execution_count": 108,
   "metadata": {},
   "outputs": [
    {
     "data": {
      "text/plain": [
       "0                        Tecolote Research\n",
       "1    University of Maryland Medical System\n",
       "2                                  KnowBe4\n",
       "3                                     PNNL\n",
       "4                       Affinity Solutions\n",
       "Name: Company Name, dtype: object"
      ]
     },
     "execution_count": 108,
     "metadata": {},
     "output_type": "execute_result"
    }
   ],
   "source": [
    "df['Company Name'].head()"
   ]
  },
  {
   "cell_type": "code",
   "execution_count": 109,
   "metadata": {},
   "outputs": [],
   "source": [
    "df['job_state'] = df['Location'].apply(lambda x: x.split(',')[1])"
   ]
  },
  {
   "cell_type": "code",
   "execution_count": 110,
   "metadata": {},
   "outputs": [
    {
     "data": {
      "text/plain": [
       "0     NM\n",
       "1     MD\n",
       "2     FL\n",
       "3     WA\n",
       "4     NY\n",
       "Name: job_state, dtype: object"
      ]
     },
     "execution_count": 110,
     "metadata": {},
     "output_type": "execute_result"
    }
   ],
   "source": [
    "df['job_state'].head()"
   ]
  },
  {
   "cell_type": "code",
   "execution_count": 111,
   "metadata": {},
   "outputs": [
    {
     "data": {
      "text/plain": [
       "array([' NM', ' MD', ' FL', ' WA', ' NY', ' TX', ' CA', ' VA', ' MA',\n",
       "       ' NJ', ' CO', ' IL', ' KY', ' OR', ' CT', ' MI', ' DC', ' OH',\n",
       "       ' AL', ' MO', ' PA', ' GA', ' IN', ' LA', ' WI', ' NC', ' AZ',\n",
       "       ' NE', ' MN', ' Los Angeles', ' UT', ' TN', ' DE', ' ID', ' RI',\n",
       "       ' IA', ' SC', ' KS'], dtype=object)"
      ]
     },
     "execution_count": 111,
     "metadata": {},
     "output_type": "execute_result"
    }
   ],
   "source": [
    "df['job_state'].unique()"
   ]
  },
  {
   "cell_type": "code",
   "execution_count": 112,
   "metadata": {},
   "outputs": [
    {
     "data": {
      "text/plain": [
       "CA    152\n",
       "MA    103\n",
       "NY     72\n",
       "VA     41\n",
       "IL     40\n",
       "Name: job_state, dtype: int64"
      ]
     },
     "execution_count": 112,
     "metadata": {},
     "output_type": "execute_result"
    }
   ],
   "source": [
    "# Fixing los angeles to CA\n",
    "df['job_state'] = df['job_state'].apply(lambda x: x.strip() if x.strip().lower() != 'los angeles' else 'CA')\n",
    "df['job_state'].value_counts()[:5]"
   ]
  },
  {
   "cell_type": "code",
   "execution_count": 113,
   "metadata": {},
   "outputs": [
    {
     "data": {
      "text/plain": [
       "array(['NM', 'MD', 'FL', 'WA', 'NY', 'TX', 'CA', 'VA', 'MA', 'NJ', 'CO',\n",
       "       'IL', 'KY', 'OR', 'CT', 'MI', 'DC', 'OH', 'AL', 'MO', 'PA', 'GA',\n",
       "       'IN', 'LA', 'WI', 'NC', 'AZ', 'NE', 'MN', 'UT', 'TN', 'DE', 'ID',\n",
       "       'RI', 'IA', 'SC', 'KS'], dtype=object)"
      ]
     },
     "execution_count": 113,
     "metadata": {},
     "output_type": "execute_result"
    }
   ],
   "source": [
    "df['job_state'].unique()"
   ]
  },
  {
   "cell_type": "code",
   "execution_count": 114,
   "metadata": {},
   "outputs": [
    {
     "data": {
      "text/plain": [
       "0    47\n",
       "1    36\n",
       "2    10\n",
       "3    55\n",
       "4    22\n",
       "5    20\n",
       "Name: company_age, dtype: int64"
      ]
     },
     "execution_count": 114,
     "metadata": {},
     "output_type": "execute_result"
    }
   ],
   "source": [
    "#calculating the age of company\n",
    "df['company_age'] = df['Founded'].apply(lambda x: x if x<1 else 2020-x)\n",
    "df['company_age'][:6]"
   ]
  },
  {
   "cell_type": "code",
   "execution_count": 115,
   "metadata": {},
   "outputs": [],
   "source": [
    "#cleaning the job description column\n",
    "df['python_job'] = df['Job Description'].apply(lambda x:1 if 'python' in x.lower() else 0)\n",
    "df['r_job'] = df['Job Description'].apply(lambda x:1 if 'r studio' in x.lower() else 0)\n",
    "df['spark_job'] = df['Job Description'].apply(lambda x:1 if 'spark' in x.lower() else 0)\n",
    "df['aws_job'] = df['Job Description'].apply(lambda x:1 if 'aws' in x.lower() else 0)\n",
    "df['excel_job'] = df['Job Description'].apply(lambda x:1 if 'excel' in x.lower() else 0)"
   ]
  },
  {
   "cell_type": "code",
   "execution_count": 116,
   "metadata": {},
   "outputs": [
    {
     "data": {
      "text/plain": [
       "1    392\n",
       "0    350\n",
       "Name: python_job, dtype: int64"
      ]
     },
     "execution_count": 116,
     "metadata": {},
     "output_type": "execute_result"
    }
   ],
   "source": [
    "#python jobs\n",
    "df.python_job.value_counts()"
   ]
  },
  {
   "cell_type": "code",
   "execution_count": 117,
   "metadata": {},
   "outputs": [
    {
     "data": {
      "text/plain": [
       "0    741\n",
       "1      1\n",
       "Name: r_job, dtype: int64"
      ]
     },
     "execution_count": 117,
     "metadata": {},
     "output_type": "execute_result"
    }
   ],
   "source": [
    "#r studio jobs\n",
    "df.r_job.value_counts()"
   ]
  },
  {
   "cell_type": "code",
   "execution_count": 118,
   "metadata": {},
   "outputs": [
    {
     "data": {
      "text/plain": [
       "0    575\n",
       "1    167\n",
       "Name: spark_job, dtype: int64"
      ]
     },
     "execution_count": 118,
     "metadata": {},
     "output_type": "execute_result"
    }
   ],
   "source": [
    "#spark jobs\n",
    "df.spark_job.value_counts()"
   ]
  },
  {
   "cell_type": "code",
   "execution_count": 119,
   "metadata": {},
   "outputs": [
    {
     "data": {
      "text/plain": [
       "0    566\n",
       "1    176\n",
       "Name: aws_job, dtype: int64"
      ]
     },
     "execution_count": 119,
     "metadata": {},
     "output_type": "execute_result"
    }
   ],
   "source": [
    "#aws jobs\n",
    "df.aws_job.value_counts()"
   ]
  },
  {
   "cell_type": "code",
   "execution_count": 120,
   "metadata": {},
   "outputs": [
    {
     "data": {
      "text/plain": [
       "1    388\n",
       "0    354\n",
       "Name: excel_job, dtype: int64"
      ]
     },
     "execution_count": 120,
     "metadata": {},
     "output_type": "execute_result"
    }
   ],
   "source": [
    "#excel jobs\n",
    "df.excel_job.value_counts()"
   ]
  },
  {
   "cell_type": "code",
   "execution_count": 121,
   "metadata": {},
   "outputs": [
    {
     "data": {
      "text/html": [
       "<div>\n",
       "<style scoped>\n",
       "    .dataframe tbody tr th:only-of-type {\n",
       "        vertical-align: middle;\n",
       "    }\n",
       "\n",
       "    .dataframe tbody tr th {\n",
       "        vertical-align: top;\n",
       "    }\n",
       "\n",
       "    .dataframe thead th {\n",
       "        text-align: right;\n",
       "    }\n",
       "</style>\n",
       "<table border=\"1\" class=\"dataframe\">\n",
       "  <thead>\n",
       "    <tr style=\"text-align: right;\">\n",
       "      <th></th>\n",
       "      <th>Job Title</th>\n",
       "      <th>Salary Estimate</th>\n",
       "      <th>Job Description</th>\n",
       "      <th>Rating</th>\n",
       "      <th>Company Name</th>\n",
       "      <th>Location</th>\n",
       "      <th>Headquarters</th>\n",
       "      <th>Size</th>\n",
       "      <th>Founded</th>\n",
       "      <th>Type of ownership</th>\n",
       "      <th>...</th>\n",
       "      <th>min_salary</th>\n",
       "      <th>max_salary</th>\n",
       "      <th>average_salary</th>\n",
       "      <th>job_state</th>\n",
       "      <th>company_age</th>\n",
       "      <th>python_job</th>\n",
       "      <th>r_job</th>\n",
       "      <th>spark_job</th>\n",
       "      <th>aws_job</th>\n",
       "      <th>excel_job</th>\n",
       "    </tr>\n",
       "  </thead>\n",
       "  <tbody>\n",
       "    <tr>\n",
       "      <th>0</th>\n",
       "      <td>Data Scientist</td>\n",
       "      <td>$53K-$91K (Glassdoor est.)</td>\n",
       "      <td>Data Scientist\\nLocation: Albuquerque, NM\\nEdu...</td>\n",
       "      <td>3.8</td>\n",
       "      <td>Tecolote Research</td>\n",
       "      <td>Albuquerque, NM</td>\n",
       "      <td>Goleta, CA</td>\n",
       "      <td>501 to 1000 employees</td>\n",
       "      <td>1973</td>\n",
       "      <td>Company - Private</td>\n",
       "      <td>...</td>\n",
       "      <td>53</td>\n",
       "      <td>91</td>\n",
       "      <td>72.0</td>\n",
       "      <td>NM</td>\n",
       "      <td>47</td>\n",
       "      <td>1</td>\n",
       "      <td>0</td>\n",
       "      <td>0</td>\n",
       "      <td>0</td>\n",
       "      <td>1</td>\n",
       "    </tr>\n",
       "    <tr>\n",
       "      <th>1</th>\n",
       "      <td>Healthcare Data Scientist</td>\n",
       "      <td>$63K-$112K (Glassdoor est.)</td>\n",
       "      <td>What You Will Do:\\n\\nI. General Summary\\n\\nThe...</td>\n",
       "      <td>3.4</td>\n",
       "      <td>University of Maryland Medical System</td>\n",
       "      <td>Linthicum, MD</td>\n",
       "      <td>Baltimore, MD</td>\n",
       "      <td>10000+ employees</td>\n",
       "      <td>1984</td>\n",
       "      <td>Other Organization</td>\n",
       "      <td>...</td>\n",
       "      <td>63</td>\n",
       "      <td>112</td>\n",
       "      <td>87.5</td>\n",
       "      <td>MD</td>\n",
       "      <td>36</td>\n",
       "      <td>1</td>\n",
       "      <td>0</td>\n",
       "      <td>0</td>\n",
       "      <td>0</td>\n",
       "      <td>0</td>\n",
       "    </tr>\n",
       "    <tr>\n",
       "      <th>2</th>\n",
       "      <td>Data Scientist</td>\n",
       "      <td>$80K-$90K (Glassdoor est.)</td>\n",
       "      <td>KnowBe4, Inc. is a high growth information sec...</td>\n",
       "      <td>4.8</td>\n",
       "      <td>KnowBe4</td>\n",
       "      <td>Clearwater, FL</td>\n",
       "      <td>Clearwater, FL</td>\n",
       "      <td>501 to 1000 employees</td>\n",
       "      <td>2010</td>\n",
       "      <td>Company - Private</td>\n",
       "      <td>...</td>\n",
       "      <td>80</td>\n",
       "      <td>90</td>\n",
       "      <td>85.0</td>\n",
       "      <td>FL</td>\n",
       "      <td>10</td>\n",
       "      <td>1</td>\n",
       "      <td>0</td>\n",
       "      <td>1</td>\n",
       "      <td>0</td>\n",
       "      <td>1</td>\n",
       "    </tr>\n",
       "    <tr>\n",
       "      <th>3</th>\n",
       "      <td>Data Scientist</td>\n",
       "      <td>$56K-$97K (Glassdoor est.)</td>\n",
       "      <td>*Organization and Job ID**\\nJob ID: 310709\\n\\n...</td>\n",
       "      <td>3.8</td>\n",
       "      <td>PNNL</td>\n",
       "      <td>Richland, WA</td>\n",
       "      <td>Richland, WA</td>\n",
       "      <td>1001 to 5000 employees</td>\n",
       "      <td>1965</td>\n",
       "      <td>Government</td>\n",
       "      <td>...</td>\n",
       "      <td>56</td>\n",
       "      <td>97</td>\n",
       "      <td>76.5</td>\n",
       "      <td>WA</td>\n",
       "      <td>55</td>\n",
       "      <td>1</td>\n",
       "      <td>0</td>\n",
       "      <td>0</td>\n",
       "      <td>0</td>\n",
       "      <td>0</td>\n",
       "    </tr>\n",
       "    <tr>\n",
       "      <th>4</th>\n",
       "      <td>Data Scientist</td>\n",
       "      <td>$86K-$143K (Glassdoor est.)</td>\n",
       "      <td>Data Scientist\\nAffinity Solutions / Marketing...</td>\n",
       "      <td>2.9</td>\n",
       "      <td>Affinity Solutions</td>\n",
       "      <td>New York, NY</td>\n",
       "      <td>New York, NY</td>\n",
       "      <td>51 to 200 employees</td>\n",
       "      <td>1998</td>\n",
       "      <td>Company - Private</td>\n",
       "      <td>...</td>\n",
       "      <td>86</td>\n",
       "      <td>143</td>\n",
       "      <td>114.5</td>\n",
       "      <td>NY</td>\n",
       "      <td>22</td>\n",
       "      <td>1</td>\n",
       "      <td>0</td>\n",
       "      <td>0</td>\n",
       "      <td>0</td>\n",
       "      <td>1</td>\n",
       "    </tr>\n",
       "  </tbody>\n",
       "</table>\n",
       "<p>5 rows × 26 columns</p>\n",
       "</div>"
      ],
      "text/plain": [
       "                   Job Title              Salary Estimate  \\\n",
       "0             Data Scientist   $53K-$91K (Glassdoor est.)   \n",
       "1  Healthcare Data Scientist  $63K-$112K (Glassdoor est.)   \n",
       "2             Data Scientist   $80K-$90K (Glassdoor est.)   \n",
       "3             Data Scientist   $56K-$97K (Glassdoor est.)   \n",
       "4             Data Scientist  $86K-$143K (Glassdoor est.)   \n",
       "\n",
       "                                     Job Description  Rating  \\\n",
       "0  Data Scientist\\nLocation: Albuquerque, NM\\nEdu...     3.8   \n",
       "1  What You Will Do:\\n\\nI. General Summary\\n\\nThe...     3.4   \n",
       "2  KnowBe4, Inc. is a high growth information sec...     4.8   \n",
       "3  *Organization and Job ID**\\nJob ID: 310709\\n\\n...     3.8   \n",
       "4  Data Scientist\\nAffinity Solutions / Marketing...     2.9   \n",
       "\n",
       "                            Company Name         Location    Headquarters  \\\n",
       "0                      Tecolote Research  Albuquerque, NM      Goleta, CA   \n",
       "1  University of Maryland Medical System    Linthicum, MD   Baltimore, MD   \n",
       "2                                KnowBe4   Clearwater, FL  Clearwater, FL   \n",
       "3                                   PNNL     Richland, WA    Richland, WA   \n",
       "4                     Affinity Solutions     New York, NY    New York, NY   \n",
       "\n",
       "                     Size  Founded   Type of ownership  ... min_salary  \\\n",
       "0   501 to 1000 employees     1973   Company - Private  ...         53   \n",
       "1        10000+ employees     1984  Other Organization  ...         63   \n",
       "2   501 to 1000 employees     2010   Company - Private  ...         80   \n",
       "3  1001 to 5000 employees     1965          Government  ...         56   \n",
       "4     51 to 200 employees     1998   Company - Private  ...         86   \n",
       "\n",
       "  max_salary average_salary job_state  company_age  python_job  r_job  \\\n",
       "0         91           72.0        NM           47           1      0   \n",
       "1        112           87.5        MD           36           1      0   \n",
       "2         90           85.0        FL           10           1      0   \n",
       "3         97           76.5        WA           55           1      0   \n",
       "4        143          114.5        NY           22           1      0   \n",
       "\n",
       "   spark_job  aws_job excel_job  \n",
       "0          0        0         1  \n",
       "1          0        0         0  \n",
       "2          1        0         1  \n",
       "3          0        0         0  \n",
       "4          0        0         1  \n",
       "\n",
       "[5 rows x 26 columns]"
      ]
     },
     "execution_count": 121,
     "metadata": {},
     "output_type": "execute_result"
    }
   ],
   "source": [
    "df.head()"
   ]
  },
  {
   "cell_type": "code",
   "execution_count": 122,
   "metadata": {},
   "outputs": [],
   "source": [
    "#cleaning the job title column\n",
    "def title_simplifier(title):\n",
    "    if 'data scientist' in title.lower():\n",
    "        return 'data scientist'\n",
    "    elif 'data engineer' in title.lower():\n",
    "        return 'data engineer'\n",
    "    elif 'analyst' in title.lower():\n",
    "        return 'analyst'\n",
    "    elif 'machine learning' in title.lower():\n",
    "        return 'mle'\n",
    "    elif 'manager' in title.lower():\n",
    "        return 'manager'\n",
    "    elif 'director' in title.lower():\n",
    "        return 'director'\n",
    "    else:\n",
    "        return 'na'\n",
    "\n",
    "df['job_title_simplified'] = df['Job Title'].apply(title_simplifier)"
   ]
  },
  {
   "cell_type": "code",
   "execution_count": 123,
   "metadata": {},
   "outputs": [
    {
     "data": {
      "text/plain": [
       "data scientist    279\n",
       "na                184\n",
       "data engineer     119\n",
       "analyst           102\n",
       "mle                22\n",
       "manager            22\n",
       "director           14\n",
       "Name: job_title_simplified, dtype: int64"
      ]
     },
     "execution_count": 123,
     "metadata": {},
     "output_type": "execute_result"
    }
   ],
   "source": [
    "df['job_title_simplified'].value_counts()"
   ]
  },
  {
   "cell_type": "code",
   "execution_count": 124,
   "metadata": {},
   "outputs": [],
   "source": [
    "def seniority(title):\n",
    "    if 'sr' in title.lower() or 'senior' in title.lower() or 'lead' in title.lower() or 'principal' in title.lower():\n",
    "            return 'senior'\n",
    "    elif 'jr' in title.lower() or 'jr.' in title.lower():\n",
    "        return 'jr'\n",
    "    else:\n",
    "        return 'na'\n",
    "\n",
    "df['job_seniority'] = df['Job Title'].apply(seniority)"
   ]
  },
  {
   "cell_type": "code",
   "execution_count": 125,
   "metadata": {},
   "outputs": [
    {
     "data": {
      "text/plain": [
       "na        520\n",
       "senior    220\n",
       "jr          2\n",
       "Name: job_seniority, dtype: int64"
      ]
     },
     "execution_count": 125,
     "metadata": {},
     "output_type": "execute_result"
    }
   ],
   "source": [
    "df['job_seniority'].value_counts()"
   ]
  },
  {
   "cell_type": "code",
   "execution_count": 126,
   "metadata": {},
   "outputs": [
    {
     "data": {
      "text/plain": [
       "0      0\n",
       "1      0\n",
       "2      0\n",
       "3      3\n",
       "4      3\n",
       "      ..\n",
       "950    3\n",
       "951    3\n",
       "952    0\n",
       "953    0\n",
       "955    0\n",
       "Name: Competitors, Length: 742, dtype: int64"
      ]
     },
     "execution_count": 126,
     "metadata": {},
     "output_type": "execute_result"
    }
   ],
   "source": [
    "#cleaning competitors column\n",
    "df['Competitors'] = df['Competitors'].apply(lambda x: len(x.split(',')) if x != '-1' else 0)\n",
    "df['Competitors']"
   ]
  },
  {
   "cell_type": "code",
   "execution_count": 127,
   "metadata": {},
   "outputs": [
    {
     "data": {
      "text/plain": [
       "Company - Private                 410\n",
       "Company - Public                  193\n",
       "Nonprofit Organization             55\n",
       "Subsidiary or Business Segment     34\n",
       "Hospital                           15\n",
       "Government                         15\n",
       "College / University               13\n",
       "Other Organization                  3\n",
       "School / School District            2\n",
       "Unknown                             1\n",
       "-1                                  1\n",
       "Name: Type of ownership, dtype: int64"
      ]
     },
     "execution_count": 127,
     "metadata": {},
     "output_type": "execute_result"
    }
   ],
   "source": [
    "#cleaning type of ownership column\n",
    "df['Type of ownership'].value_counts()"
   ]
  },
  {
   "cell_type": "code",
   "execution_count": 128,
   "metadata": {},
   "outputs": [],
   "source": [
    "def ownership_simplifier(text):\n",
    "    if 'private' in text.lower():\n",
    "          return 'Private'\n",
    "    elif 'public' in text.lower():\n",
    "          return 'Public'\n",
    "    elif ('-1' in text.lower()) or ('unknown' in text.lower()):\n",
    "          return 'Other Organization'\n",
    "    else:\n",
    "          return text\n",
    "\n",
    "df['Type of ownership'] = df['Type of ownership'].apply(ownership_simplifier)"
   ]
  },
  {
   "cell_type": "code",
   "execution_count": 129,
   "metadata": {},
   "outputs": [
    {
     "data": {
      "text/plain": [
       "Private                           410\n",
       "Public                            193\n",
       "Nonprofit Organization             55\n",
       "Subsidiary or Business Segment     34\n",
       "Hospital                           15\n",
       "Government                         15\n",
       "College / University               13\n",
       "Other Organization                  5\n",
       "School / School District            2\n",
       "Name: Type of ownership, dtype: int64"
      ]
     },
     "execution_count": 129,
     "metadata": {},
     "output_type": "execute_result"
    }
   ],
   "source": [
    "df['Type of ownership'].value_counts()"
   ]
  },
  {
   "cell_type": "code",
   "execution_count": 130,
   "metadata": {},
   "outputs": [
    {
     "data": {
      "text/plain": [
       "Unknown / Non-Applicable            203\n",
       "$10+ billion (USD)                  124\n",
       "$100 to $500 million (USD)           91\n",
       "$1 to $2 billion (USD)               60\n",
       "$500 million to $1 billion (USD)     57\n",
       "$50 to $100 million (USD)            46\n",
       "$25 to $50 million (USD)             40\n",
       "$2 to $5 billion (USD)               39\n",
       "$10 to $25 million (USD)             32\n",
       "$5 to $10 billion (USD)              19\n",
       "$5 to $10 million (USD)              18\n",
       "$1 to $5 million (USD)                8\n",
       "Less than $1 million (USD)            4\n",
       "-1                                    1\n",
       "Name: Revenue, dtype: int64"
      ]
     },
     "execution_count": 130,
     "metadata": {},
     "output_type": "execute_result"
    }
   ],
   "source": [
    "#cleaning revenue column\n",
    "df['Revenue'].value_counts()"
   ]
  },
  {
   "cell_type": "code",
   "execution_count": 131,
   "metadata": {},
   "outputs": [],
   "source": [
    "def revenue_simplifier(text):\n",
    "    if '-1' in text.lower():\n",
    "        return 'unknown/not applicable'\n",
    "    else:\n",
    "        return text\n",
    "df['Revenue'] = df['Revenue'].apply(revenue_simplifier)"
   ]
  },
  {
   "cell_type": "code",
   "execution_count": 132,
   "metadata": {},
   "outputs": [
    {
     "data": {
      "text/plain": [
       "Unknown / Non-Applicable            203\n",
       "$10+ billion (USD)                  124\n",
       "$100 to $500 million (USD)           91\n",
       "$1 to $2 billion (USD)               60\n",
       "$500 million to $1 billion (USD)     57\n",
       "$50 to $100 million (USD)            46\n",
       "$25 to $50 million (USD)             40\n",
       "$2 to $5 billion (USD)               39\n",
       "$10 to $25 million (USD)             32\n",
       "$5 to $10 billion (USD)              19\n",
       "$5 to $10 million (USD)              18\n",
       "$1 to $5 million (USD)                8\n",
       "Less than $1 million (USD)            4\n",
       "unknown/not applicable                1\n",
       "Name: Revenue, dtype: int64"
      ]
     },
     "execution_count": 132,
     "metadata": {},
     "output_type": "execute_result"
    }
   ],
   "source": [
    "df['Revenue'].value_counts()"
   ]
  },
  {
   "cell_type": "code",
   "execution_count": 133,
   "metadata": {},
   "outputs": [
    {
     "data": {
      "text/plain": [
       "1001 to 5000 employees     150\n",
       "501 to 1000 employees      134\n",
       "10000+ employees           130\n",
       "201 to 500 employees       117\n",
       "51 to 200 employees         94\n",
       "5001 to 10000 employees     76\n",
       "1 to 50 employees           31\n",
       "Unknown                      9\n",
       "-1                           1\n",
       "Name: Size, dtype: int64"
      ]
     },
     "execution_count": 133,
     "metadata": {},
     "output_type": "execute_result"
    }
   ],
   "source": [
    "# Cleaning size column\n",
    "df['Size'].value_counts()"
   ]
  },
  {
   "cell_type": "code",
   "execution_count": 134,
   "metadata": {},
   "outputs": [],
   "source": [
    "def size_simplifier(text):\n",
    "    if '-1' in text.lower():\n",
    "        return 'Unknown'\n",
    "    else:\n",
    "        return text\n",
    "df['Size'] = df['Size'].apply(size_simplifier)"
   ]
  },
  {
   "cell_type": "code",
   "execution_count": 135,
   "metadata": {},
   "outputs": [
    {
     "data": {
      "text/plain": [
       "1001 to 5000 employees     150\n",
       "501 to 1000 employees      134\n",
       "10000+ employees           130\n",
       "201 to 500 employees       117\n",
       "51 to 200 employees         94\n",
       "5001 to 10000 employees     76\n",
       "1 to 50 employees           31\n",
       "Unknown                     10\n",
       "Name: Size, dtype: int64"
      ]
     },
     "execution_count": 135,
     "metadata": {},
     "output_type": "execute_result"
    }
   ],
   "source": [
    "df['Size'].value_counts()"
   ]
  },
  {
   "cell_type": "code",
   "execution_count": 136,
   "metadata": {},
   "outputs": [
    {
     "data": {
      "text/html": [
       "<div>\n",
       "<style scoped>\n",
       "    .dataframe tbody tr th:only-of-type {\n",
       "        vertical-align: middle;\n",
       "    }\n",
       "\n",
       "    .dataframe tbody tr th {\n",
       "        vertical-align: top;\n",
       "    }\n",
       "\n",
       "    .dataframe thead th {\n",
       "        text-align: right;\n",
       "    }\n",
       "</style>\n",
       "<table border=\"1\" class=\"dataframe\">\n",
       "  <thead>\n",
       "    <tr style=\"text-align: right;\">\n",
       "      <th></th>\n",
       "      <th>Job Title</th>\n",
       "      <th>Salary Estimate</th>\n",
       "      <th>Job Description</th>\n",
       "      <th>Rating</th>\n",
       "      <th>Company Name</th>\n",
       "      <th>Location</th>\n",
       "      <th>Headquarters</th>\n",
       "      <th>Size</th>\n",
       "      <th>Founded</th>\n",
       "      <th>Type of ownership</th>\n",
       "      <th>...</th>\n",
       "      <th>average_salary</th>\n",
       "      <th>job_state</th>\n",
       "      <th>company_age</th>\n",
       "      <th>python_job</th>\n",
       "      <th>r_job</th>\n",
       "      <th>spark_job</th>\n",
       "      <th>aws_job</th>\n",
       "      <th>excel_job</th>\n",
       "      <th>job_title_simplified</th>\n",
       "      <th>job_seniority</th>\n",
       "    </tr>\n",
       "  </thead>\n",
       "  <tbody>\n",
       "    <tr>\n",
       "      <th>0</th>\n",
       "      <td>Data Scientist</td>\n",
       "      <td>$53K-$91K (Glassdoor est.)</td>\n",
       "      <td>Data Scientist\\nLocation: Albuquerque, NM\\nEdu...</td>\n",
       "      <td>3.8</td>\n",
       "      <td>Tecolote Research</td>\n",
       "      <td>Albuquerque, NM</td>\n",
       "      <td>Goleta, CA</td>\n",
       "      <td>501 to 1000 employees</td>\n",
       "      <td>1973</td>\n",
       "      <td>Private</td>\n",
       "      <td>...</td>\n",
       "      <td>72.0</td>\n",
       "      <td>NM</td>\n",
       "      <td>47</td>\n",
       "      <td>1</td>\n",
       "      <td>0</td>\n",
       "      <td>0</td>\n",
       "      <td>0</td>\n",
       "      <td>1</td>\n",
       "      <td>data scientist</td>\n",
       "      <td>na</td>\n",
       "    </tr>\n",
       "    <tr>\n",
       "      <th>1</th>\n",
       "      <td>Healthcare Data Scientist</td>\n",
       "      <td>$63K-$112K (Glassdoor est.)</td>\n",
       "      <td>What You Will Do:\\n\\nI. General Summary\\n\\nThe...</td>\n",
       "      <td>3.4</td>\n",
       "      <td>University of Maryland Medical System</td>\n",
       "      <td>Linthicum, MD</td>\n",
       "      <td>Baltimore, MD</td>\n",
       "      <td>10000+ employees</td>\n",
       "      <td>1984</td>\n",
       "      <td>Other Organization</td>\n",
       "      <td>...</td>\n",
       "      <td>87.5</td>\n",
       "      <td>MD</td>\n",
       "      <td>36</td>\n",
       "      <td>1</td>\n",
       "      <td>0</td>\n",
       "      <td>0</td>\n",
       "      <td>0</td>\n",
       "      <td>0</td>\n",
       "      <td>data scientist</td>\n",
       "      <td>na</td>\n",
       "    </tr>\n",
       "    <tr>\n",
       "      <th>2</th>\n",
       "      <td>Data Scientist</td>\n",
       "      <td>$80K-$90K (Glassdoor est.)</td>\n",
       "      <td>KnowBe4, Inc. is a high growth information sec...</td>\n",
       "      <td>4.8</td>\n",
       "      <td>KnowBe4</td>\n",
       "      <td>Clearwater, FL</td>\n",
       "      <td>Clearwater, FL</td>\n",
       "      <td>501 to 1000 employees</td>\n",
       "      <td>2010</td>\n",
       "      <td>Private</td>\n",
       "      <td>...</td>\n",
       "      <td>85.0</td>\n",
       "      <td>FL</td>\n",
       "      <td>10</td>\n",
       "      <td>1</td>\n",
       "      <td>0</td>\n",
       "      <td>1</td>\n",
       "      <td>0</td>\n",
       "      <td>1</td>\n",
       "      <td>data scientist</td>\n",
       "      <td>na</td>\n",
       "    </tr>\n",
       "    <tr>\n",
       "      <th>3</th>\n",
       "      <td>Data Scientist</td>\n",
       "      <td>$56K-$97K (Glassdoor est.)</td>\n",
       "      <td>*Organization and Job ID**\\nJob ID: 310709\\n\\n...</td>\n",
       "      <td>3.8</td>\n",
       "      <td>PNNL</td>\n",
       "      <td>Richland, WA</td>\n",
       "      <td>Richland, WA</td>\n",
       "      <td>1001 to 5000 employees</td>\n",
       "      <td>1965</td>\n",
       "      <td>Government</td>\n",
       "      <td>...</td>\n",
       "      <td>76.5</td>\n",
       "      <td>WA</td>\n",
       "      <td>55</td>\n",
       "      <td>1</td>\n",
       "      <td>0</td>\n",
       "      <td>0</td>\n",
       "      <td>0</td>\n",
       "      <td>0</td>\n",
       "      <td>data scientist</td>\n",
       "      <td>na</td>\n",
       "    </tr>\n",
       "    <tr>\n",
       "      <th>4</th>\n",
       "      <td>Data Scientist</td>\n",
       "      <td>$86K-$143K (Glassdoor est.)</td>\n",
       "      <td>Data Scientist\\nAffinity Solutions / Marketing...</td>\n",
       "      <td>2.9</td>\n",
       "      <td>Affinity Solutions</td>\n",
       "      <td>New York, NY</td>\n",
       "      <td>New York, NY</td>\n",
       "      <td>51 to 200 employees</td>\n",
       "      <td>1998</td>\n",
       "      <td>Private</td>\n",
       "      <td>...</td>\n",
       "      <td>114.5</td>\n",
       "      <td>NY</td>\n",
       "      <td>22</td>\n",
       "      <td>1</td>\n",
       "      <td>0</td>\n",
       "      <td>0</td>\n",
       "      <td>0</td>\n",
       "      <td>1</td>\n",
       "      <td>data scientist</td>\n",
       "      <td>na</td>\n",
       "    </tr>\n",
       "  </tbody>\n",
       "</table>\n",
       "<p>5 rows × 28 columns</p>\n",
       "</div>"
      ],
      "text/plain": [
       "                   Job Title              Salary Estimate  \\\n",
       "0             Data Scientist   $53K-$91K (Glassdoor est.)   \n",
       "1  Healthcare Data Scientist  $63K-$112K (Glassdoor est.)   \n",
       "2             Data Scientist   $80K-$90K (Glassdoor est.)   \n",
       "3             Data Scientist   $56K-$97K (Glassdoor est.)   \n",
       "4             Data Scientist  $86K-$143K (Glassdoor est.)   \n",
       "\n",
       "                                     Job Description  Rating  \\\n",
       "0  Data Scientist\\nLocation: Albuquerque, NM\\nEdu...     3.8   \n",
       "1  What You Will Do:\\n\\nI. General Summary\\n\\nThe...     3.4   \n",
       "2  KnowBe4, Inc. is a high growth information sec...     4.8   \n",
       "3  *Organization and Job ID**\\nJob ID: 310709\\n\\n...     3.8   \n",
       "4  Data Scientist\\nAffinity Solutions / Marketing...     2.9   \n",
       "\n",
       "                            Company Name         Location    Headquarters  \\\n",
       "0                      Tecolote Research  Albuquerque, NM      Goleta, CA   \n",
       "1  University of Maryland Medical System    Linthicum, MD   Baltimore, MD   \n",
       "2                                KnowBe4   Clearwater, FL  Clearwater, FL   \n",
       "3                                   PNNL     Richland, WA    Richland, WA   \n",
       "4                     Affinity Solutions     New York, NY    New York, NY   \n",
       "\n",
       "                     Size  Founded   Type of ownership  ... average_salary  \\\n",
       "0   501 to 1000 employees     1973             Private  ...           72.0   \n",
       "1        10000+ employees     1984  Other Organization  ...           87.5   \n",
       "2   501 to 1000 employees     2010             Private  ...           85.0   \n",
       "3  1001 to 5000 employees     1965          Government  ...           76.5   \n",
       "4     51 to 200 employees     1998             Private  ...          114.5   \n",
       "\n",
       "  job_state company_age  python_job  r_job  spark_job  aws_job  excel_job  \\\n",
       "0        NM          47           1      0          0        0          1   \n",
       "1        MD          36           1      0          0        0          0   \n",
       "2        FL          10           1      0          1        0          1   \n",
       "3        WA          55           1      0          0        0          0   \n",
       "4        NY          22           1      0          0        0          1   \n",
       "\n",
       "   job_title_simplified job_seniority  \n",
       "0        data scientist            na  \n",
       "1        data scientist            na  \n",
       "2        data scientist            na  \n",
       "3        data scientist            na  \n",
       "4        data scientist            na  \n",
       "\n",
       "[5 rows x 28 columns]"
      ]
     },
     "execution_count": 136,
     "metadata": {},
     "output_type": "execute_result"
    }
   ],
   "source": [
    "df.head()"
   ]
  },
  {
   "cell_type": "markdown",
   "metadata": {},
   "source": [
    "## Exploratory Data Analysis"
   ]
  },
  {
   "cell_type": "code",
   "execution_count": 137,
   "metadata": {},
   "outputs": [
    {
     "data": {
      "text/html": [
       "<div>\n",
       "<style scoped>\n",
       "    .dataframe tbody tr th:only-of-type {\n",
       "        vertical-align: middle;\n",
       "    }\n",
       "\n",
       "    .dataframe tbody tr th {\n",
       "        vertical-align: top;\n",
       "    }\n",
       "\n",
       "    .dataframe thead th {\n",
       "        text-align: right;\n",
       "    }\n",
       "</style>\n",
       "<table border=\"1\" class=\"dataframe\">\n",
       "  <thead>\n",
       "    <tr style=\"text-align: right;\">\n",
       "      <th></th>\n",
       "      <th>count</th>\n",
       "      <th>mean</th>\n",
       "      <th>std</th>\n",
       "      <th>min</th>\n",
       "      <th>25%</th>\n",
       "      <th>50%</th>\n",
       "      <th>75%</th>\n",
       "      <th>max</th>\n",
       "    </tr>\n",
       "  </thead>\n",
       "  <tbody>\n",
       "    <tr>\n",
       "      <th>Rating</th>\n",
       "      <td>742.0</td>\n",
       "      <td>3.618868</td>\n",
       "      <td>0.801210</td>\n",
       "      <td>-1.0</td>\n",
       "      <td>3.3</td>\n",
       "      <td>3.7</td>\n",
       "      <td>4.0</td>\n",
       "      <td>5.0</td>\n",
       "    </tr>\n",
       "    <tr>\n",
       "      <th>Founded</th>\n",
       "      <td>742.0</td>\n",
       "      <td>1837.154987</td>\n",
       "      <td>497.183763</td>\n",
       "      <td>-1.0</td>\n",
       "      <td>1939.0</td>\n",
       "      <td>1988.0</td>\n",
       "      <td>2007.0</td>\n",
       "      <td>2019.0</td>\n",
       "    </tr>\n",
       "    <tr>\n",
       "      <th>Competitors</th>\n",
       "      <td>742.0</td>\n",
       "      <td>1.053908</td>\n",
       "      <td>1.384239</td>\n",
       "      <td>0.0</td>\n",
       "      <td>0.0</td>\n",
       "      <td>0.0</td>\n",
       "      <td>3.0</td>\n",
       "      <td>4.0</td>\n",
       "    </tr>\n",
       "    <tr>\n",
       "      <th>salary_per_hour</th>\n",
       "      <td>742.0</td>\n",
       "      <td>0.032345</td>\n",
       "      <td>0.177034</td>\n",
       "      <td>0.0</td>\n",
       "      <td>0.0</td>\n",
       "      <td>0.0</td>\n",
       "      <td>0.0</td>\n",
       "      <td>1.0</td>\n",
       "    </tr>\n",
       "    <tr>\n",
       "      <th>emp-provided-salary</th>\n",
       "      <td>742.0</td>\n",
       "      <td>0.022911</td>\n",
       "      <td>0.149721</td>\n",
       "      <td>0.0</td>\n",
       "      <td>0.0</td>\n",
       "      <td>0.0</td>\n",
       "      <td>0.0</td>\n",
       "      <td>1.0</td>\n",
       "    </tr>\n",
       "    <tr>\n",
       "      <th>min_salary</th>\n",
       "      <td>742.0</td>\n",
       "      <td>74.719677</td>\n",
       "      <td>30.980593</td>\n",
       "      <td>15.0</td>\n",
       "      <td>52.0</td>\n",
       "      <td>69.5</td>\n",
       "      <td>91.0</td>\n",
       "      <td>202.0</td>\n",
       "    </tr>\n",
       "    <tr>\n",
       "      <th>max_salary</th>\n",
       "      <td>742.0</td>\n",
       "      <td>128.149596</td>\n",
       "      <td>45.220324</td>\n",
       "      <td>16.0</td>\n",
       "      <td>96.0</td>\n",
       "      <td>124.0</td>\n",
       "      <td>155.0</td>\n",
       "      <td>306.0</td>\n",
       "    </tr>\n",
       "    <tr>\n",
       "      <th>average_salary</th>\n",
       "      <td>742.0</td>\n",
       "      <td>100.626011</td>\n",
       "      <td>38.855948</td>\n",
       "      <td>13.5</td>\n",
       "      <td>73.5</td>\n",
       "      <td>97.5</td>\n",
       "      <td>122.5</td>\n",
       "      <td>254.0</td>\n",
       "    </tr>\n",
       "    <tr>\n",
       "      <th>company_age</th>\n",
       "      <td>742.0</td>\n",
       "      <td>46.591644</td>\n",
       "      <td>53.778815</td>\n",
       "      <td>-1.0</td>\n",
       "      <td>11.0</td>\n",
       "      <td>24.0</td>\n",
       "      <td>59.0</td>\n",
       "      <td>276.0</td>\n",
       "    </tr>\n",
       "    <tr>\n",
       "      <th>python_job</th>\n",
       "      <td>742.0</td>\n",
       "      <td>0.528302</td>\n",
       "      <td>0.499535</td>\n",
       "      <td>0.0</td>\n",
       "      <td>0.0</td>\n",
       "      <td>1.0</td>\n",
       "      <td>1.0</td>\n",
       "      <td>1.0</td>\n",
       "    </tr>\n",
       "    <tr>\n",
       "      <th>r_job</th>\n",
       "      <td>742.0</td>\n",
       "      <td>0.001348</td>\n",
       "      <td>0.036711</td>\n",
       "      <td>0.0</td>\n",
       "      <td>0.0</td>\n",
       "      <td>0.0</td>\n",
       "      <td>0.0</td>\n",
       "      <td>1.0</td>\n",
       "    </tr>\n",
       "    <tr>\n",
       "      <th>spark_job</th>\n",
       "      <td>742.0</td>\n",
       "      <td>0.225067</td>\n",
       "      <td>0.417908</td>\n",
       "      <td>0.0</td>\n",
       "      <td>0.0</td>\n",
       "      <td>0.0</td>\n",
       "      <td>0.0</td>\n",
       "      <td>1.0</td>\n",
       "    </tr>\n",
       "    <tr>\n",
       "      <th>aws_job</th>\n",
       "      <td>742.0</td>\n",
       "      <td>0.237197</td>\n",
       "      <td>0.425651</td>\n",
       "      <td>0.0</td>\n",
       "      <td>0.0</td>\n",
       "      <td>0.0</td>\n",
       "      <td>0.0</td>\n",
       "      <td>1.0</td>\n",
       "    </tr>\n",
       "    <tr>\n",
       "      <th>excel_job</th>\n",
       "      <td>742.0</td>\n",
       "      <td>0.522911</td>\n",
       "      <td>0.499812</td>\n",
       "      <td>0.0</td>\n",
       "      <td>0.0</td>\n",
       "      <td>1.0</td>\n",
       "      <td>1.0</td>\n",
       "      <td>1.0</td>\n",
       "    </tr>\n",
       "  </tbody>\n",
       "</table>\n",
       "</div>"
      ],
      "text/plain": [
       "                     count         mean         std   min     25%     50%  \\\n",
       "Rating               742.0     3.618868    0.801210  -1.0     3.3     3.7   \n",
       "Founded              742.0  1837.154987  497.183763  -1.0  1939.0  1988.0   \n",
       "Competitors          742.0     1.053908    1.384239   0.0     0.0     0.0   \n",
       "salary_per_hour      742.0     0.032345    0.177034   0.0     0.0     0.0   \n",
       "emp-provided-salary  742.0     0.022911    0.149721   0.0     0.0     0.0   \n",
       "min_salary           742.0    74.719677   30.980593  15.0    52.0    69.5   \n",
       "max_salary           742.0   128.149596   45.220324  16.0    96.0   124.0   \n",
       "average_salary       742.0   100.626011   38.855948  13.5    73.5    97.5   \n",
       "company_age          742.0    46.591644   53.778815  -1.0    11.0    24.0   \n",
       "python_job           742.0     0.528302    0.499535   0.0     0.0     1.0   \n",
       "r_job                742.0     0.001348    0.036711   0.0     0.0     0.0   \n",
       "spark_job            742.0     0.225067    0.417908   0.0     0.0     0.0   \n",
       "aws_job              742.0     0.237197    0.425651   0.0     0.0     0.0   \n",
       "excel_job            742.0     0.522911    0.499812   0.0     0.0     1.0   \n",
       "\n",
       "                        75%     max  \n",
       "Rating                  4.0     5.0  \n",
       "Founded              2007.0  2019.0  \n",
       "Competitors             3.0     4.0  \n",
       "salary_per_hour         0.0     1.0  \n",
       "emp-provided-salary     0.0     1.0  \n",
       "min_salary             91.0   202.0  \n",
       "max_salary            155.0   306.0  \n",
       "average_salary        122.5   254.0  \n",
       "company_age            59.0   276.0  \n",
       "python_job              1.0     1.0  \n",
       "r_job                   0.0     1.0  \n",
       "spark_job               0.0     1.0  \n",
       "aws_job                 0.0     1.0  \n",
       "excel_job               1.0     1.0  "
      ]
     },
     "execution_count": 137,
     "metadata": {},
     "output_type": "execute_result"
    }
   ],
   "source": [
    "df.describe().T"
   ]
  },
  {
   "cell_type": "code",
   "execution_count": 138,
   "metadata": {},
   "outputs": [
    {
     "data": {
      "image/png": "[encoded data removed]",
      "text/plain": [
       "<Figure size 432x288 with 1 Axes>"
      ]
     },
     "metadata": {
      "needs_background": "light"
     },
     "output_type": "display_data"
    }
   ],
   "source": [
    "ax = sns.distplot(df['Rating'], bins=20);\n",
    "ax.set(xlabel=\"Ratings\", ylabel = \"count\", title='company ratings distplot');"
   ]
  },
  {
   "cell_type": "code",
   "execution_count": 139,
   "metadata": {},
   "outputs": [
    {
     "data": {
      "image/png": "[encoded data removed]",
      "text/plain": [
       "<Figure size 432x288 with 1 Axes>"
      ]
     },
     "metadata": {
      "needs_background": "light"
     },
     "output_type": "display_data"
    }
   ],
   "source": [
    "ax = sns.distplot(df['company_age'], bins=20);\n",
    "ax.set(xlabel=\"company_age\", ylabel = \"count\", title='company age distplot');"
   ]
  },
  {
   "cell_type": "code",
   "execution_count": 140,
   "metadata": {},
   "outputs": [
    {
     "data": {
      "image/png": "[encoded data removed]",
      "text/plain": [
       "<Figure size 432x288 with 1 Axes>"
      ]
     },
     "metadata": {
      "needs_background": "light"
     },
     "output_type": "display_data"
    }
   ],
   "source": [
    "# our target column\n",
    "sns.distplot(df['average_salary']);"
   ]
  },
  {
   "cell_type": "code",
   "execution_count": 141,
   "metadata": {},
   "outputs": [],
   "source": [
    "df_categorical = df[['Company Name', 'Location', 'Headquarters', 'Size', 'Type of ownership', 'Industry', 'Sector', 'Revenue', 'job_title_simplified', 'job_seniority']]"
   ]
  },
  {
   "cell_type": "code",
   "execution_count": 142,
   "metadata": {},
   "outputs": [
    {
     "name": "stdout",
     "output_type": "stream",
     "text": [
      "Graph for Company Name\n",
      "Total records = 20\n"
     ]
    },
    {
     "data": {
      "image/png": "[encoded data removed]",
      "text/plain": [
       "<Figure size 432x288 with 1 Axes>"
      ]
     },
     "metadata": {
      "needs_background": "light"
     },
     "output_type": "display_data"
    },
    {
     "name": "stdout",
     "output_type": "stream",
     "text": [
      "Graph for Location\n",
      "Total records = 20\n"
     ]
    },
    {
     "data": {
      "image/png": "[encoded data removed]",
      "text/plain": [
       "<Figure size 432x288 with 1 Axes>"
      ]
     },
     "metadata": {
      "needs_background": "light"
     },
     "output_type": "display_data"
    },
    {
     "name": "stdout",
     "output_type": "stream",
     "text": [
      "Graph for Headquarters\n",
      "Total records = 20\n"
     ]
    },
    {
     "data": {
      "image/png": "[encoded data removed]",
      "text/plain": [
       "<Figure size 432x288 with 1 Axes>"
      ]
     },
     "metadata": {
      "needs_background": "light"
     },
     "output_type": "display_data"
    },
    {
     "name": "stdout",
     "output_type": "stream",
     "text": [
      "Graph for Size\n",
      "Total records = 8\n"
     ]
    },
    {
     "data": {
      "image/png": "[encoded data removed]",
      "text/plain": [
       "<Figure size 432x288 with 1 Axes>"
      ]
     },
     "metadata": {
      "needs_background": "light"
     },
     "output_type": "display_data"
    },
    {
     "name": "stdout",
     "output_type": "stream",
     "text": [
      "Graph for Type of ownership\n",
      "Total records = 9\n"
     ]
    },
    {
     "data": {
      "image/png": "[encoded data removed]",
      "text/plain": [
       "<Figure size 432x288 with 1 Axes>"
      ]
     },
     "metadata": {
      "needs_background": "light"
     },
     "output_type": "display_data"
    },
    {
     "name": "stdout",
     "output_type": "stream",
     "text": [
      "Graph for Industry\n",
      "Total records = 20\n"
     ]
    },
    {
     "data": {
      "image/png": "[encoded data removed]",
      "text/plain": [
       "<Figure size 432x288 with 1 Axes>"
      ]
     },
     "metadata": {
      "needs_background": "light"
     },
     "output_type": "display_data"
    },
    {
     "name": "stdout",
     "output_type": "stream",
     "text": [
      "Graph for Sector\n",
      "Total records = 20\n"
     ]
    },
    {
     "data": {
      "image/png": "[encoded data removed]",
      "text/plain": [
       "<Figure size 432x288 with 1 Axes>"
      ]
     },
     "metadata": {
      "needs_background": "light"
     },
     "output_type": "display_data"
    },
    {
     "name": "stdout",
     "output_type": "stream",
     "text": [
      "Graph for Revenue\n",
      "Total records = 14\n"
     ]
    },
    {
     "data": {
      "image/png": "[encoded data removed]",
      "text/plain": [
       "<Figure size 432x288 with 1 Axes>"
      ]
     },
     "metadata": {
      "needs_background": "light"
     },
     "output_type": "display_data"
    },
    {
     "name": "stdout",
     "output_type": "stream",
     "text": [
      "Graph for job_title_simplified\n",
      "Total records = 7\n"
     ]
    },
    {
     "data": {
      "image/png": "[encoded data removed]",
      "text/plain": [
       "<Figure size 432x288 with 1 Axes>"
      ]
     },
     "metadata": {
      "needs_background": "light"
     },
     "output_type": "display_data"
    },
    {
     "name": "stdout",
     "output_type": "stream",
     "text": [
      "Graph for job_seniority\n",
      "Total records = 3\n"
     ]
    },
    {
     "data": {
      "image/png": "[encoded data removed]",
      "text/plain": [
       "<Figure size 432x288 with 1 Axes>"
      ]
     },
     "metadata": {
      "needs_background": "light"
     },
     "output_type": "display_data"
    }
   ],
   "source": [
    "# Group of categorical categories and its counts\n",
    "for i in df_categorical:\n",
    "    unique_categories = df_categorical[i].value_counts()[:20]\n",
    "    print(\"Graph for {}\\nTotal records = {}\".format(i, len(unique_categories)))\n",
    "    chart = sns.barplot(x=unique_categories.index, y=unique_categories)\n",
    "    chart.set_xticklabels(chart.get_xticklabels(), rotation=90)\n",
    "    plt.show()"
   ]
  },
  {
   "cell_type": "code",
   "execution_count": 143,
   "metadata": {},
   "outputs": [
    {
     "data": {
      "image/png": "[encoded data removed]",
      "text/plain": [
       "<Figure size 432x288 with 1 Axes>"
      ]
     },
     "metadata": {
      "needs_background": "light"
     },
     "output_type": "display_data"
    }
   ],
   "source": [
    "sns.boxplot(y='average_salary', data=df, orient='v', palette='Set1');"
   ]
  },
  {
   "cell_type": "code",
   "execution_count": 144,
   "metadata": {},
   "outputs": [
    {
     "data": {
      "image/png": "[encoded data removed]",
      "text/plain": [
       "<Figure size 432x288 with 1 Axes>"
      ]
     },
     "metadata": {
      "needs_background": "light"
     },
     "output_type": "display_data"
    }
   ],
   "source": [
    "sns.boxplot(y='company_age', data=df, orient='v', palette='Set1');"
   ]
  },
  {
   "cell_type": "code",
   "execution_count": 145,
   "metadata": {},
   "outputs": [
    {
     "data": {
      "image/png": "[encoded data removed]",
      "text/plain": [
       "<Figure size 432x288 with 1 Axes>"
      ]
     },
     "metadata": {
      "needs_background": "light"
     },
     "output_type": "display_data"
    }
   ],
   "source": [
    "sns.boxplot(y='Rating', data=df, orient='v', palette='Set1');"
   ]
  },
  {
   "cell_type": "code",
   "execution_count": 146,
   "metadata": {},
   "outputs": [
    {
     "data": {
      "text/plain": [
       "Index(['Job Title', 'Salary Estimate', 'Job Description', 'Rating',\n",
       "       'Company Name', 'Location', 'Headquarters', 'Size', 'Founded',\n",
       "       'Type of ownership', 'Industry', 'Sector', 'Revenue', 'Competitors',\n",
       "       'salary_per_hour', 'emp-provided-salary', 'min_salary', 'max_salary',\n",
       "       'average_salary', 'job_state', 'company_age', 'python_job', 'r_job',\n",
       "       'spark_job', 'aws_job', 'excel_job', 'job_title_simplified',\n",
       "       'job_seniority'],\n",
       "      dtype='object')"
      ]
     },
     "execution_count": 146,
     "metadata": {},
     "output_type": "execute_result"
    }
   ],
   "source": [
    "df.columns"
   ]
  },
  {
   "cell_type": "markdown",
   "metadata": {},
   "source": [
    "pivot table for knowing the excat value and corelation with our target variable."
   ]
  },
  {
   "cell_type": "code",
   "execution_count": 147,
   "metadata": {},
   "outputs": [
    {
     "data": {
      "text/html": [
       "<div>\n",
       "<style scoped>\n",
       "    .dataframe tbody tr th:only-of-type {\n",
       "        vertical-align: middle;\n",
       "    }\n",
       "\n",
       "    .dataframe tbody tr th {\n",
       "        vertical-align: top;\n",
       "    }\n",
       "\n",
       "    .dataframe thead th {\n",
       "        text-align: right;\n",
       "    }\n",
       "</style>\n",
       "<table border=\"1\" class=\"dataframe\">\n",
       "  <thead>\n",
       "    <tr style=\"text-align: right;\">\n",
       "      <th></th>\n",
       "      <th></th>\n",
       "      <th>average_salary</th>\n",
       "    </tr>\n",
       "    <tr>\n",
       "      <th>job_title_simplified</th>\n",
       "      <th>job_seniority</th>\n",
       "      <th></th>\n",
       "    </tr>\n",
       "  </thead>\n",
       "  <tbody>\n",
       "    <tr>\n",
       "      <th rowspan=\"3\" valign=\"top\">analyst</th>\n",
       "      <th>jr</th>\n",
       "      <td>56.500000</td>\n",
       "    </tr>\n",
       "    <tr>\n",
       "      <th>na</th>\n",
       "      <td>61.155405</td>\n",
       "    </tr>\n",
       "    <tr>\n",
       "      <th>senior</th>\n",
       "      <td>79.092593</td>\n",
       "    </tr>\n",
       "    <tr>\n",
       "      <th rowspan=\"2\" valign=\"top\">data engineer</th>\n",
       "      <th>na</th>\n",
       "      <td>96.701220</td>\n",
       "    </tr>\n",
       "    <tr>\n",
       "      <th>senior</th>\n",
       "      <td>124.689189</td>\n",
       "    </tr>\n",
       "    <tr>\n",
       "      <th rowspan=\"3\" valign=\"top\">data scientist</th>\n",
       "      <th>jr</th>\n",
       "      <td>106.500000</td>\n",
       "    </tr>\n",
       "    <tr>\n",
       "      <th>na</th>\n",
       "      <td>107.043011</td>\n",
       "    </tr>\n",
       "    <tr>\n",
       "      <th>senior</th>\n",
       "      <td>138.956522</td>\n",
       "    </tr>\n",
       "    <tr>\n",
       "      <th>director</th>\n",
       "      <th>na</th>\n",
       "      <td>168.607143</td>\n",
       "    </tr>\n",
       "    <tr>\n",
       "      <th>manager</th>\n",
       "      <th>na</th>\n",
       "      <td>84.022727</td>\n",
       "    </tr>\n",
       "    <tr>\n",
       "      <th rowspan=\"2\" valign=\"top\">mle</th>\n",
       "      <th>na</th>\n",
       "      <td>119.133333</td>\n",
       "    </tr>\n",
       "    <tr>\n",
       "      <th>senior</th>\n",
       "      <td>142.071429</td>\n",
       "    </tr>\n",
       "    <tr>\n",
       "      <th rowspan=\"2\" valign=\"top\">na</th>\n",
       "      <th>na</th>\n",
       "      <td>73.988189</td>\n",
       "    </tr>\n",
       "    <tr>\n",
       "      <th>senior</th>\n",
       "      <td>109.061404</td>\n",
       "    </tr>\n",
       "  </tbody>\n",
       "</table>\n",
       "</div>"
      ],
      "text/plain": [
       "                                    average_salary\n",
       "job_title_simplified job_seniority                \n",
       "analyst              jr                  56.500000\n",
       "                     na                  61.155405\n",
       "                     senior              79.092593\n",
       "data engineer        na                  96.701220\n",
       "                     senior             124.689189\n",
       "data scientist       jr                 106.500000\n",
       "                     na                 107.043011\n",
       "                     senior             138.956522\n",
       "director             na                 168.607143\n",
       "manager              na                  84.022727\n",
       "mle                  na                 119.133333\n",
       "                     senior             142.071429\n",
       "na                   na                  73.988189\n",
       "                     senior             109.061404"
      ]
     },
     "execution_count": 147,
     "metadata": {},
     "output_type": "execute_result"
    }
   ],
   "source": [
    "pd.pivot_table(df, index=['job_title_simplified','job_seniority'], values='average_salary')"
   ]
  },
  {
   "cell_type": "code",
   "execution_count": 148,
   "metadata": {},
   "outputs": [
    {
     "data": {
      "text/html": [
       "<div>\n",
       "<style scoped>\n",
       "    .dataframe tbody tr th:only-of-type {\n",
       "        vertical-align: middle;\n",
       "    }\n",
       "\n",
       "    .dataframe tbody tr th {\n",
       "        vertical-align: top;\n",
       "    }\n",
       "\n",
       "    .dataframe thead th {\n",
       "        text-align: right;\n",
       "    }\n",
       "</style>\n",
       "<table border=\"1\" class=\"dataframe\">\n",
       "  <thead>\n",
       "    <tr style=\"text-align: right;\">\n",
       "      <th></th>\n",
       "      <th></th>\n",
       "      <th>average_salary</th>\n",
       "    </tr>\n",
       "    <tr>\n",
       "      <th>job_state</th>\n",
       "      <th>job_title_simplified</th>\n",
       "      <th></th>\n",
       "    </tr>\n",
       "  </thead>\n",
       "  <tbody>\n",
       "    <tr>\n",
       "      <th>IL</th>\n",
       "      <th>director</th>\n",
       "      <td>221.750000</td>\n",
       "    </tr>\n",
       "    <tr>\n",
       "      <th>CA</th>\n",
       "      <th>mle</th>\n",
       "      <td>177.300000</td>\n",
       "    </tr>\n",
       "    <tr>\n",
       "      <th>NJ</th>\n",
       "      <th>director</th>\n",
       "      <td>161.500000</td>\n",
       "    </tr>\n",
       "    <tr>\n",
       "      <th>DC</th>\n",
       "      <th>data scientist</th>\n",
       "      <td>149.000000</td>\n",
       "    </tr>\n",
       "    <tr>\n",
       "      <th>CA</th>\n",
       "      <th>data scientist</th>\n",
       "      <td>142.522059</td>\n",
       "    </tr>\n",
       "    <tr>\n",
       "      <th>UT</th>\n",
       "      <th>data scientist</th>\n",
       "      <td>140.500000</td>\n",
       "    </tr>\n",
       "    <tr>\n",
       "      <th>IL</th>\n",
       "      <th>mle</th>\n",
       "      <td>133.000000</td>\n",
       "    </tr>\n",
       "    <tr>\n",
       "      <th>CA</th>\n",
       "      <th>data engineer</th>\n",
       "      <td>129.540000</td>\n",
       "    </tr>\n",
       "    <tr>\n",
       "      <th>MO</th>\n",
       "      <th>data scientist</th>\n",
       "      <td>127.666667</td>\n",
       "    </tr>\n",
       "    <tr>\n",
       "      <th>NY</th>\n",
       "      <th>mle</th>\n",
       "      <td>125.000000</td>\n",
       "    </tr>\n",
       "    <tr>\n",
       "      <th>AZ</th>\n",
       "      <th>na</th>\n",
       "      <td>124.500000</td>\n",
       "    </tr>\n",
       "    <tr>\n",
       "      <th>PA</th>\n",
       "      <th>mle</th>\n",
       "      <td>120.500000</td>\n",
       "    </tr>\n",
       "    <tr>\n",
       "      <th>MA</th>\n",
       "      <th>director</th>\n",
       "      <td>117.833333</td>\n",
       "    </tr>\n",
       "    <tr>\n",
       "      <th>IL</th>\n",
       "      <th>data scientist</th>\n",
       "      <td>117.233333</td>\n",
       "    </tr>\n",
       "    <tr>\n",
       "      <th>NC</th>\n",
       "      <th>data scientist</th>\n",
       "      <td>117.000000</td>\n",
       "    </tr>\n",
       "    <tr>\n",
       "      <th>NY</th>\n",
       "      <th>data scientist</th>\n",
       "      <td>115.250000</td>\n",
       "    </tr>\n",
       "    <tr>\n",
       "      <th>IN</th>\n",
       "      <th>data engineer</th>\n",
       "      <td>114.500000</td>\n",
       "    </tr>\n",
       "    <tr>\n",
       "      <th>MA</th>\n",
       "      <th>data scientist</th>\n",
       "      <td>113.750000</td>\n",
       "    </tr>\n",
       "    <tr>\n",
       "      <th>WI</th>\n",
       "      <th>data scientist</th>\n",
       "      <td>113.500000</td>\n",
       "    </tr>\n",
       "    <tr>\n",
       "      <th>PA</th>\n",
       "      <th>data scientist</th>\n",
       "      <td>113.333333</td>\n",
       "    </tr>\n",
       "  </tbody>\n",
       "</table>\n",
       "</div>"
      ],
      "text/plain": [
       "                                average_salary\n",
       "job_state job_title_simplified                \n",
       "IL        director                  221.750000\n",
       "CA        mle                       177.300000\n",
       "NJ        director                  161.500000\n",
       "DC        data scientist            149.000000\n",
       "CA        data scientist            142.522059\n",
       "UT        data scientist            140.500000\n",
       "IL        mle                       133.000000\n",
       "CA        data engineer             129.540000\n",
       "MO        data scientist            127.666667\n",
       "NY        mle                       125.000000\n",
       "AZ        na                        124.500000\n",
       "PA        mle                       120.500000\n",
       "MA        director                  117.833333\n",
       "IL        data scientist            117.233333\n",
       "NC        data scientist            117.000000\n",
       "NY        data scientist            115.250000\n",
       "IN        data engineer             114.500000\n",
       "MA        data scientist            113.750000\n",
       "WI        data scientist            113.500000\n",
       "PA        data scientist            113.333333"
      ]
     },
     "execution_count": 148,
     "metadata": {},
     "output_type": "execute_result"
    }
   ],
   "source": [
    "pd.pivot_table(df, index=['job_state','job_title_simplified'], values='average_salary').sort_values('average_salary', ascending=False)[:20]"
   ]
  },
  {
   "cell_type": "code",
   "execution_count": 149,
   "metadata": {},
   "outputs": [
    {
     "data": {
      "text/html": [
       "<div>\n",
       "<style scoped>\n",
       "    .dataframe tbody tr th:only-of-type {\n",
       "        vertical-align: middle;\n",
       "    }\n",
       "\n",
       "    .dataframe tbody tr th {\n",
       "        vertical-align: top;\n",
       "    }\n",
       "\n",
       "    .dataframe thead th {\n",
       "        text-align: right;\n",
       "    }\n",
       "</style>\n",
       "<table border=\"1\" class=\"dataframe\">\n",
       "  <thead>\n",
       "    <tr style=\"text-align: right;\">\n",
       "      <th></th>\n",
       "      <th>average_salary</th>\n",
       "    </tr>\n",
       "    <tr>\n",
       "      <th>job_state</th>\n",
       "      <th></th>\n",
       "    </tr>\n",
       "  </thead>\n",
       "  <tbody>\n",
       "    <tr>\n",
       "      <th>CA</th>\n",
       "      <td>123.513158</td>\n",
       "    </tr>\n",
       "    <tr>\n",
       "      <th>IL</th>\n",
       "      <td>116.662500</td>\n",
       "    </tr>\n",
       "    <tr>\n",
       "      <th>DC</th>\n",
       "      <td>110.181818</td>\n",
       "    </tr>\n",
       "    <tr>\n",
       "      <th>MA</th>\n",
       "      <td>106.281553</td>\n",
       "    </tr>\n",
       "    <tr>\n",
       "      <th>NJ</th>\n",
       "      <td>104.558824</td>\n",
       "    </tr>\n",
       "    <tr>\n",
       "      <th>MI</th>\n",
       "      <td>100.250000</td>\n",
       "    </tr>\n",
       "    <tr>\n",
       "      <th>RI</th>\n",
       "      <td>100.000000</td>\n",
       "    </tr>\n",
       "    <tr>\n",
       "      <th>NY</th>\n",
       "      <td>98.652778</td>\n",
       "    </tr>\n",
       "    <tr>\n",
       "      <th>NC</th>\n",
       "      <td>98.452381</td>\n",
       "    </tr>\n",
       "    <tr>\n",
       "      <th>MD</th>\n",
       "      <td>97.357143</td>\n",
       "    </tr>\n",
       "    <tr>\n",
       "      <th>KY</th>\n",
       "      <td>97.000000</td>\n",
       "    </tr>\n",
       "    <tr>\n",
       "      <th>VA</th>\n",
       "      <td>95.621951</td>\n",
       "    </tr>\n",
       "    <tr>\n",
       "      <th>UT</th>\n",
       "      <td>94.150000</td>\n",
       "    </tr>\n",
       "    <tr>\n",
       "      <th>WA</th>\n",
       "      <td>93.190476</td>\n",
       "    </tr>\n",
       "    <tr>\n",
       "      <th>PA</th>\n",
       "      <td>92.560606</td>\n",
       "    </tr>\n",
       "    <tr>\n",
       "      <th>OR</th>\n",
       "      <td>92.125000</td>\n",
       "    </tr>\n",
       "    <tr>\n",
       "      <th>IN</th>\n",
       "      <td>90.300000</td>\n",
       "    </tr>\n",
       "    <tr>\n",
       "      <th>TX</th>\n",
       "      <td>89.392857</td>\n",
       "    </tr>\n",
       "    <tr>\n",
       "      <th>OH</th>\n",
       "      <td>87.571429</td>\n",
       "    </tr>\n",
       "    <tr>\n",
       "      <th>TN</th>\n",
       "      <td>87.115385</td>\n",
       "    </tr>\n",
       "    <tr>\n",
       "      <th>KS</th>\n",
       "      <td>87.000000</td>\n",
       "    </tr>\n",
       "    <tr>\n",
       "      <th>AZ</th>\n",
       "      <td>85.666667</td>\n",
       "    </tr>\n",
       "    <tr>\n",
       "      <th>MN</th>\n",
       "      <td>85.500000</td>\n",
       "    </tr>\n",
       "    <tr>\n",
       "      <th>MO</th>\n",
       "      <td>84.722222</td>\n",
       "    </tr>\n",
       "    <tr>\n",
       "      <th>GA</th>\n",
       "      <td>80.666667</td>\n",
       "    </tr>\n",
       "    <tr>\n",
       "      <th>IA</th>\n",
       "      <td>78.900000</td>\n",
       "    </tr>\n",
       "    <tr>\n",
       "      <th>FL</th>\n",
       "      <td>77.625000</td>\n",
       "    </tr>\n",
       "    <tr>\n",
       "      <th>CO</th>\n",
       "      <td>77.045455</td>\n",
       "    </tr>\n",
       "    <tr>\n",
       "      <th>NM</th>\n",
       "      <td>74.333333</td>\n",
       "    </tr>\n",
       "    <tr>\n",
       "      <th>WI</th>\n",
       "      <td>73.300000</td>\n",
       "    </tr>\n",
       "    <tr>\n",
       "      <th>CT</th>\n",
       "      <td>71.100000</td>\n",
       "    </tr>\n",
       "    <tr>\n",
       "      <th>SC</th>\n",
       "      <td>60.500000</td>\n",
       "    </tr>\n",
       "    <tr>\n",
       "      <th>AL</th>\n",
       "      <td>57.937500</td>\n",
       "    </tr>\n",
       "    <tr>\n",
       "      <th>ID</th>\n",
       "      <td>56.250000</td>\n",
       "    </tr>\n",
       "    <tr>\n",
       "      <th>LA</th>\n",
       "      <td>52.250000</td>\n",
       "    </tr>\n",
       "    <tr>\n",
       "      <th>NE</th>\n",
       "      <td>41.000000</td>\n",
       "    </tr>\n",
       "    <tr>\n",
       "      <th>DE</th>\n",
       "      <td>27.500000</td>\n",
       "    </tr>\n",
       "  </tbody>\n",
       "</table>\n",
       "</div>"
      ],
      "text/plain": [
       "           average_salary\n",
       "job_state                \n",
       "CA             123.513158\n",
       "IL             116.662500\n",
       "DC             110.181818\n",
       "MA             106.281553\n",
       "NJ             104.558824\n",
       "MI             100.250000\n",
       "RI             100.000000\n",
       "NY              98.652778\n",
       "NC              98.452381\n",
       "MD              97.357143\n",
       "KY              97.000000\n",
       "VA              95.621951\n",
       "UT              94.150000\n",
       "WA              93.190476\n",
       "PA              92.560606\n",
       "OR              92.125000\n",
       "IN              90.300000\n",
       "TX              89.392857\n",
       "OH              87.571429\n",
       "TN              87.115385\n",
       "KS              87.000000\n",
       "AZ              85.666667\n",
       "MN              85.500000\n",
       "MO              84.722222\n",
       "GA              80.666667\n",
       "IA              78.900000\n",
       "FL              77.625000\n",
       "CO              77.045455\n",
       "NM              74.333333\n",
       "WI              73.300000\n",
       "CT              71.100000\n",
       "SC              60.500000\n",
       "AL              57.937500\n",
       "ID              56.250000\n",
       "LA              52.250000\n",
       "NE              41.000000\n",
       "DE              27.500000"
      ]
     },
     "execution_count": 149,
     "metadata": {},
     "output_type": "execute_result"
    }
   ],
   "source": [
    "pd.pivot_table(df, index='job_state', values='average_salary').sort_values('average_salary', ascending=False)"
   ]
  },
  {
   "cell_type": "code",
   "execution_count": 150,
   "metadata": {},
   "outputs": [
    {
     "data": {
      "text/html": [
       "<div>\n",
       "<style scoped>\n",
       "    .dataframe tbody tr th:only-of-type {\n",
       "        vertical-align: middle;\n",
       "    }\n",
       "\n",
       "    .dataframe tbody tr th {\n",
       "        vertical-align: top;\n",
       "    }\n",
       "\n",
       "    .dataframe thead th {\n",
       "        text-align: right;\n",
       "    }\n",
       "</style>\n",
       "<table border=\"1\" class=\"dataframe\">\n",
       "  <thead>\n",
       "    <tr style=\"text-align: right;\">\n",
       "      <th></th>\n",
       "      <th>average_salary</th>\n",
       "    </tr>\n",
       "    <tr>\n",
       "      <th>Industry</th>\n",
       "      <th></th>\n",
       "    </tr>\n",
       "  </thead>\n",
       "  <tbody>\n",
       "    <tr>\n",
       "      <th>Other Retail Stores</th>\n",
       "      <td>163.500000</td>\n",
       "    </tr>\n",
       "    <tr>\n",
       "      <th>Motion Picture Production &amp; Distribution</th>\n",
       "      <td>146.000000</td>\n",
       "    </tr>\n",
       "    <tr>\n",
       "      <th>Financial Analytics &amp; Research</th>\n",
       "      <td>145.125000</td>\n",
       "    </tr>\n",
       "    <tr>\n",
       "      <th>Health, Beauty, &amp; Fitness</th>\n",
       "      <td>139.500000</td>\n",
       "    </tr>\n",
       "    <tr>\n",
       "      <th>Telecommunications Services</th>\n",
       "      <td>131.500000</td>\n",
       "    </tr>\n",
       "    <tr>\n",
       "      <th>Brokerage Services</th>\n",
       "      <td>129.000000</td>\n",
       "    </tr>\n",
       "    <tr>\n",
       "      <th>Auctions &amp; Galleries</th>\n",
       "      <td>128.000000</td>\n",
       "    </tr>\n",
       "    <tr>\n",
       "      <th>Internet</th>\n",
       "      <td>123.810345</td>\n",
       "    </tr>\n",
       "    <tr>\n",
       "      <th>Investment Banking &amp; Asset Management</th>\n",
       "      <td>118.400000</td>\n",
       "    </tr>\n",
       "    <tr>\n",
       "      <th>TV Broadcast &amp; Cable Networks</th>\n",
       "      <td>117.750000</td>\n",
       "    </tr>\n",
       "    <tr>\n",
       "      <th>Enterprise Software &amp; Network Solutions</th>\n",
       "      <td>115.369048</td>\n",
       "    </tr>\n",
       "    <tr>\n",
       "      <th>Computer Hardware &amp; Software</th>\n",
       "      <td>115.194915</td>\n",
       "    </tr>\n",
       "    <tr>\n",
       "      <th>-1</th>\n",
       "      <td>114.650000</td>\n",
       "    </tr>\n",
       "    <tr>\n",
       "      <th>Accounting</th>\n",
       "      <td>113.500000</td>\n",
       "    </tr>\n",
       "    <tr>\n",
       "      <th>Biotech &amp; Pharmaceuticals</th>\n",
       "      <td>111.767857</td>\n",
       "    </tr>\n",
       "    <tr>\n",
       "      <th>Insurance Agencies &amp; Brokerages</th>\n",
       "      <td>109.250000</td>\n",
       "    </tr>\n",
       "    <tr>\n",
       "      <th>K-12 Education</th>\n",
       "      <td>108.875000</td>\n",
       "    </tr>\n",
       "    <tr>\n",
       "      <th>Consulting</th>\n",
       "      <td>108.689655</td>\n",
       "    </tr>\n",
       "    <tr>\n",
       "      <th>Transportation Management</th>\n",
       "      <td>107.500000</td>\n",
       "    </tr>\n",
       "    <tr>\n",
       "      <th>Metals Brokers</th>\n",
       "      <td>107.000000</td>\n",
       "    </tr>\n",
       "    <tr>\n",
       "      <th>Staffing &amp; Outsourcing</th>\n",
       "      <td>106.200000</td>\n",
       "    </tr>\n",
       "    <tr>\n",
       "      <th>Video Games</th>\n",
       "      <td>106.166667</td>\n",
       "    </tr>\n",
       "    <tr>\n",
       "      <th>Insurance Carriers</th>\n",
       "      <td>105.626984</td>\n",
       "    </tr>\n",
       "    <tr>\n",
       "      <th>Real Estate</th>\n",
       "      <td>104.750000</td>\n",
       "    </tr>\n",
       "    <tr>\n",
       "      <th>Transportation Equipment Manufacturing</th>\n",
       "      <td>104.500000</td>\n",
       "    </tr>\n",
       "    <tr>\n",
       "      <th>Advertising &amp; Marketing</th>\n",
       "      <td>104.300000</td>\n",
       "    </tr>\n",
       "    <tr>\n",
       "      <th>Wholesale</th>\n",
       "      <td>103.166667</td>\n",
       "    </tr>\n",
       "    <tr>\n",
       "      <th>IT Services</th>\n",
       "      <td>102.840000</td>\n",
       "    </tr>\n",
       "    <tr>\n",
       "      <th>Colleges &amp; Universities</th>\n",
       "      <td>102.687500</td>\n",
       "    </tr>\n",
       "    <tr>\n",
       "      <th>Aerospace &amp; Defense</th>\n",
       "      <td>99.060000</td>\n",
       "    </tr>\n",
       "    <tr>\n",
       "      <th>Logistics &amp; Supply Chain</th>\n",
       "      <td>98.250000</td>\n",
       "    </tr>\n",
       "    <tr>\n",
       "      <th>Gas Stations</th>\n",
       "      <td>98.000000</td>\n",
       "    </tr>\n",
       "    <tr>\n",
       "      <th>Mining</th>\n",
       "      <td>98.000000</td>\n",
       "    </tr>\n",
       "    <tr>\n",
       "      <th>Consumer Products Manufacturing</th>\n",
       "      <td>95.350000</td>\n",
       "    </tr>\n",
       "    <tr>\n",
       "      <th>Security Services</th>\n",
       "      <td>93.500000</td>\n",
       "    </tr>\n",
       "    <tr>\n",
       "      <th>Department, Clothing, &amp; Shoe Stores</th>\n",
       "      <td>92.666667</td>\n",
       "    </tr>\n",
       "    <tr>\n",
       "      <th>Stock Exchanges</th>\n",
       "      <td>87.000000</td>\n",
       "    </tr>\n",
       "    <tr>\n",
       "      <th>Industrial Manufacturing</th>\n",
       "      <td>86.750000</td>\n",
       "    </tr>\n",
       "    <tr>\n",
       "      <th>Consumer Product Rental</th>\n",
       "      <td>86.666667</td>\n",
       "    </tr>\n",
       "    <tr>\n",
       "      <th>Beauty &amp; Personal Accessories Stores</th>\n",
       "      <td>85.500000</td>\n",
       "    </tr>\n",
       "    <tr>\n",
       "      <th>Sporting Goods Stores</th>\n",
       "      <td>85.000000</td>\n",
       "    </tr>\n",
       "    <tr>\n",
       "      <th>Lending</th>\n",
       "      <td>83.000000</td>\n",
       "    </tr>\n",
       "    <tr>\n",
       "      <th>Farm Support Services</th>\n",
       "      <td>80.500000</td>\n",
       "    </tr>\n",
       "    <tr>\n",
       "      <th>Energy</th>\n",
       "      <td>80.464286</td>\n",
       "    </tr>\n",
       "    <tr>\n",
       "      <th>Education Training Services</th>\n",
       "      <td>79.500000</td>\n",
       "    </tr>\n",
       "    <tr>\n",
       "      <th>Trucking</th>\n",
       "      <td>79.000000</td>\n",
       "    </tr>\n",
       "    <tr>\n",
       "      <th>Religious Organizations</th>\n",
       "      <td>78.833333</td>\n",
       "    </tr>\n",
       "    <tr>\n",
       "      <th>Federal Agencies</th>\n",
       "      <td>78.545455</td>\n",
       "    </tr>\n",
       "    <tr>\n",
       "      <th>Research &amp; Development</th>\n",
       "      <td>78.394737</td>\n",
       "    </tr>\n",
       "    <tr>\n",
       "      <th>Financial Transaction Processing</th>\n",
       "      <td>76.500000</td>\n",
       "    </tr>\n",
       "    <tr>\n",
       "      <th>Health Care Products Manufacturing</th>\n",
       "      <td>73.000000</td>\n",
       "    </tr>\n",
       "    <tr>\n",
       "      <th>Banks &amp; Credit Unions</th>\n",
       "      <td>70.625000</td>\n",
       "    </tr>\n",
       "    <tr>\n",
       "      <th>Travel Agencies</th>\n",
       "      <td>69.500000</td>\n",
       "    </tr>\n",
       "    <tr>\n",
       "      <th>Health Care Services &amp; Hospitals</th>\n",
       "      <td>67.622449</td>\n",
       "    </tr>\n",
       "    <tr>\n",
       "      <th>Food &amp; Beverage Manufacturing</th>\n",
       "      <td>53.250000</td>\n",
       "    </tr>\n",
       "    <tr>\n",
       "      <th>Architectural &amp; Engineering Services</th>\n",
       "      <td>50.500000</td>\n",
       "    </tr>\n",
       "    <tr>\n",
       "      <th>Gambling</th>\n",
       "      <td>48.500000</td>\n",
       "    </tr>\n",
       "    <tr>\n",
       "      <th>Social Assistance</th>\n",
       "      <td>48.166667</td>\n",
       "    </tr>\n",
       "    <tr>\n",
       "      <th>Telecommunications Manufacturing</th>\n",
       "      <td>44.000000</td>\n",
       "    </tr>\n",
       "    <tr>\n",
       "      <th>Construction</th>\n",
       "      <td>26.500000</td>\n",
       "    </tr>\n",
       "  </tbody>\n",
       "</table>\n",
       "</div>"
      ],
      "text/plain": [
       "                                          average_salary\n",
       "Industry                                                \n",
       "Other Retail Stores                           163.500000\n",
       "Motion Picture Production & Distribution      146.000000\n",
       "Financial Analytics & Research                145.125000\n",
       "Health, Beauty, & Fitness                     139.500000\n",
       "Telecommunications Services                   131.500000\n",
       "Brokerage Services                            129.000000\n",
       "Auctions & Galleries                          128.000000\n",
       "Internet                                      123.810345\n",
       "Investment Banking & Asset Management         118.400000\n",
       "TV Broadcast & Cable Networks                 117.750000\n",
       "Enterprise Software & Network Solutions       115.369048\n",
       "Computer Hardware & Software                  115.194915\n",
       "-1                                            114.650000\n",
       "Accounting                                    113.500000\n",
       "Biotech & Pharmaceuticals                     111.767857\n",
       "Insurance Agencies & Brokerages               109.250000\n",
       "K-12 Education                                108.875000\n",
       "Consulting                                    108.689655\n",
       "Transportation Management                     107.500000\n",
       "Metals Brokers                                107.000000\n",
       "Staffing & Outsourcing                        106.200000\n",
       "Video Games                                   106.166667\n",
       "Insurance Carriers                            105.626984\n",
       "Real Estate                                   104.750000\n",
       "Transportation Equipment Manufacturing        104.500000\n",
       "Advertising & Marketing                       104.300000\n",
       "Wholesale                                     103.166667\n",
       "IT Services                                   102.840000\n",
       "Colleges & Universities                       102.687500\n",
       "Aerospace & Defense                            99.060000\n",
       "Logistics & Supply Chain                       98.250000\n",
       "Gas Stations                                   98.000000\n",
       "Mining                                         98.000000\n",
       "Consumer Products Manufacturing                95.350000\n",
       "Security Services                              93.500000\n",
       "Department, Clothing, & Shoe Stores            92.666667\n",
       "Stock Exchanges                                87.000000\n",
       "Industrial Manufacturing                       86.750000\n",
       "Consumer Product Rental                        86.666667\n",
       "Beauty & Personal Accessories Stores           85.500000\n",
       "Sporting Goods Stores                          85.000000\n",
       "Lending                                        83.000000\n",
       "Farm Support Services                          80.500000\n",
       "Energy                                         80.464286\n",
       "Education Training Services                    79.500000\n",
       "Trucking                                       79.000000\n",
       "Religious Organizations                        78.833333\n",
       "Federal Agencies                               78.545455\n",
       "Research & Development                         78.394737\n",
       "Financial Transaction Processing               76.500000\n",
       "Health Care Products Manufacturing             73.000000\n",
       "Banks & Credit Unions                          70.625000\n",
       "Travel Agencies                                69.500000\n",
       "Health Care Services & Hospitals               67.622449\n",
       "Food & Beverage Manufacturing                  53.250000\n",
       "Architectural & Engineering Services           50.500000\n",
       "Gambling                                       48.500000\n",
       "Social Assistance                              48.166667\n",
       "Telecommunications Manufacturing               44.000000\n",
       "Construction                                   26.500000"
      ]
     },
     "execution_count": 150,
     "metadata": {},
     "output_type": "execute_result"
    }
   ],
   "source": [
    "# Top industries for data scientist\n",
    "pd.pivot_table(df, index='Industry', values='average_salary').sort_values('average_salary', ascending=False)"
   ]
  },
  {
   "cell_type": "code",
   "execution_count": 151,
   "metadata": {},
   "outputs": [
    {
     "data": {
      "text/html": [
       "<div>\n",
       "<style scoped>\n",
       "    .dataframe tbody tr th:only-of-type {\n",
       "        vertical-align: middle;\n",
       "    }\n",
       "\n",
       "    .dataframe tbody tr th {\n",
       "        vertical-align: top;\n",
       "    }\n",
       "\n",
       "    .dataframe thead th {\n",
       "        text-align: right;\n",
       "    }\n",
       "</style>\n",
       "<table border=\"1\" class=\"dataframe\">\n",
       "  <thead>\n",
       "    <tr style=\"text-align: right;\">\n",
       "      <th></th>\n",
       "      <th>average_salary</th>\n",
       "    </tr>\n",
       "    <tr>\n",
       "      <th>Sector</th>\n",
       "      <th></th>\n",
       "    </tr>\n",
       "  </thead>\n",
       "  <tbody>\n",
       "    <tr>\n",
       "      <th>Media</th>\n",
       "      <td>116.666667</td>\n",
       "    </tr>\n",
       "    <tr>\n",
       "      <th>-1</th>\n",
       "      <td>114.650000</td>\n",
       "    </tr>\n",
       "    <tr>\n",
       "      <th>Accounting &amp; Legal</th>\n",
       "      <td>113.500000</td>\n",
       "    </tr>\n",
       "    <tr>\n",
       "      <th>Information Technology</th>\n",
       "      <td>113.191667</td>\n",
       "    </tr>\n",
       "    <tr>\n",
       "      <th>Biotech &amp; Pharmaceuticals</th>\n",
       "      <td>111.767857</td>\n",
       "    </tr>\n",
       "    <tr>\n",
       "      <th>Insurance</th>\n",
       "      <td>105.942029</td>\n",
       "    </tr>\n",
       "    <tr>\n",
       "      <th>Real Estate</th>\n",
       "      <td>104.750000</td>\n",
       "    </tr>\n",
       "    <tr>\n",
       "      <th>Mining &amp; Metals</th>\n",
       "      <td>104.000000</td>\n",
       "    </tr>\n",
       "    <tr>\n",
       "      <th>Telecommunications</th>\n",
       "      <td>102.333333</td>\n",
       "    </tr>\n",
       "    <tr>\n",
       "      <th>Education</th>\n",
       "      <td>100.739130</td>\n",
       "    </tr>\n",
       "    <tr>\n",
       "      <th>Consumer Services</th>\n",
       "      <td>99.875000</td>\n",
       "    </tr>\n",
       "    <tr>\n",
       "      <th>Retail</th>\n",
       "      <td>99.666667</td>\n",
       "    </tr>\n",
       "    <tr>\n",
       "      <th>Transportation &amp; Logistics</th>\n",
       "      <td>99.312500</td>\n",
       "    </tr>\n",
       "    <tr>\n",
       "      <th>Aerospace &amp; Defense</th>\n",
       "      <td>99.060000</td>\n",
       "    </tr>\n",
       "    <tr>\n",
       "      <th>Business Services</th>\n",
       "      <td>97.701031</td>\n",
       "    </tr>\n",
       "    <tr>\n",
       "      <th>Finance</th>\n",
       "      <td>97.369048</td>\n",
       "    </tr>\n",
       "    <tr>\n",
       "      <th>Manufacturing</th>\n",
       "      <td>84.044118</td>\n",
       "    </tr>\n",
       "    <tr>\n",
       "      <th>Agriculture &amp; Forestry</th>\n",
       "      <td>80.500000</td>\n",
       "    </tr>\n",
       "    <tr>\n",
       "      <th>Oil, Gas, Energy &amp; Utilities</th>\n",
       "      <td>80.464286</td>\n",
       "    </tr>\n",
       "    <tr>\n",
       "      <th>Government</th>\n",
       "      <td>78.545455</td>\n",
       "    </tr>\n",
       "    <tr>\n",
       "      <th>Travel &amp; Tourism</th>\n",
       "      <td>69.500000</td>\n",
       "    </tr>\n",
       "    <tr>\n",
       "      <th>Non-Profit</th>\n",
       "      <td>68.611111</td>\n",
       "    </tr>\n",
       "    <tr>\n",
       "      <th>Health Care</th>\n",
       "      <td>67.622449</td>\n",
       "    </tr>\n",
       "    <tr>\n",
       "      <th>Arts, Entertainment &amp; Recreation</th>\n",
       "      <td>48.500000</td>\n",
       "    </tr>\n",
       "    <tr>\n",
       "      <th>Construction, Repair &amp; Maintenance</th>\n",
       "      <td>26.500000</td>\n",
       "    </tr>\n",
       "  </tbody>\n",
       "</table>\n",
       "</div>"
      ],
      "text/plain": [
       "                                    average_salary\n",
       "Sector                                            \n",
       "Media                                   116.666667\n",
       "-1                                      114.650000\n",
       "Accounting & Legal                      113.500000\n",
       "Information Technology                  113.191667\n",
       "Biotech & Pharmaceuticals               111.767857\n",
       "Insurance                               105.942029\n",
       "Real Estate                             104.750000\n",
       "Mining & Metals                         104.000000\n",
       "Telecommunications                      102.333333\n",
       "Education                               100.739130\n",
       "Consumer Services                        99.875000\n",
       "Retail                                   99.666667\n",
       "Transportation & Logistics               99.312500\n",
       "Aerospace & Defense                      99.060000\n",
       "Business Services                        97.701031\n",
       "Finance                                  97.369048\n",
       "Manufacturing                            84.044118\n",
       "Agriculture & Forestry                   80.500000\n",
       "Oil, Gas, Energy & Utilities             80.464286\n",
       "Government                               78.545455\n",
       "Travel & Tourism                         69.500000\n",
       "Non-Profit                               68.611111\n",
       "Health Care                              67.622449\n",
       "Arts, Entertainment & Recreation         48.500000\n",
       "Construction, Repair & Maintenance       26.500000"
      ]
     },
     "execution_count": 151,
     "metadata": {},
     "output_type": "execute_result"
    }
   ],
   "source": [
    "# top sector data scientist\n",
    "pd.pivot_table(df, index='Sector', values='average_salary').sort_values('average_salary', ascending=False)"
   ]
  },
  {
   "cell_type": "code",
   "execution_count": 152,
   "metadata": {},
   "outputs": [
    {
     "data": {
      "text/html": [
       "<div>\n",
       "<style scoped>\n",
       "    .dataframe tbody tr th:only-of-type {\n",
       "        vertical-align: middle;\n",
       "    }\n",
       "\n",
       "    .dataframe tbody tr th {\n",
       "        vertical-align: top;\n",
       "    }\n",
       "\n",
       "    .dataframe thead th {\n",
       "        text-align: right;\n",
       "    }\n",
       "</style>\n",
       "<table border=\"1\" class=\"dataframe\">\n",
       "  <thead>\n",
       "    <tr style=\"text-align: right;\">\n",
       "      <th></th>\n",
       "      <th>average_salary</th>\n",
       "    </tr>\n",
       "    <tr>\n",
       "      <th>Type of ownership</th>\n",
       "      <th></th>\n",
       "    </tr>\n",
       "  </thead>\n",
       "  <tbody>\n",
       "    <tr>\n",
       "      <th>Public</th>\n",
       "      <td>110.893782</td>\n",
       "    </tr>\n",
       "    <tr>\n",
       "      <th>Subsidiary or Business Segment</th>\n",
       "      <td>110.573529</td>\n",
       "    </tr>\n",
       "    <tr>\n",
       "      <th>College / University</th>\n",
       "      <td>107.615385</td>\n",
       "    </tr>\n",
       "    <tr>\n",
       "      <th>Private</th>\n",
       "      <td>101.776829</td>\n",
       "    </tr>\n",
       "    <tr>\n",
       "      <th>Government</th>\n",
       "      <td>84.300000</td>\n",
       "    </tr>\n",
       "    <tr>\n",
       "      <th>Other Organization</th>\n",
       "      <td>77.900000</td>\n",
       "    </tr>\n",
       "    <tr>\n",
       "      <th>School / School District</th>\n",
       "      <td>77.750000</td>\n",
       "    </tr>\n",
       "    <tr>\n",
       "      <th>Nonprofit Organization</th>\n",
       "      <td>68.281818</td>\n",
       "    </tr>\n",
       "    <tr>\n",
       "      <th>Hospital</th>\n",
       "      <td>54.000000</td>\n",
       "    </tr>\n",
       "  </tbody>\n",
       "</table>\n",
       "</div>"
      ],
      "text/plain": [
       "                                average_salary\n",
       "Type of ownership                             \n",
       "Public                              110.893782\n",
       "Subsidiary or Business Segment      110.573529\n",
       "College / University                107.615385\n",
       "Private                             101.776829\n",
       "Government                           84.300000\n",
       "Other Organization                   77.900000\n",
       "School / School District             77.750000\n",
       "Nonprofit Organization               68.281818\n",
       "Hospital                             54.000000"
      ]
     },
     "execution_count": 152,
     "metadata": {},
     "output_type": "execute_result"
    }
   ],
   "source": [
    "# top company types that pay data scientist well \n",
    "pd.pivot_table(df, index='Type of ownership', values='average_salary').sort_values('average_salary', ascending=False)[:10]"
   ]
  },
  {
   "cell_type": "code",
   "execution_count": 153,
   "metadata": {},
   "outputs": [
    {
     "data": {
      "text/html": [
       "<div>\n",
       "<style scoped>\n",
       "    .dataframe tbody tr th:only-of-type {\n",
       "        vertical-align: middle;\n",
       "    }\n",
       "\n",
       "    .dataframe tbody tr th {\n",
       "        vertical-align: top;\n",
       "    }\n",
       "\n",
       "    .dataframe thead th {\n",
       "        text-align: right;\n",
       "    }\n",
       "</style>\n",
       "<table border=\"1\" class=\"dataframe\">\n",
       "  <thead>\n",
       "    <tr style=\"text-align: right;\">\n",
       "      <th></th>\n",
       "      <th>average_salary</th>\n",
       "    </tr>\n",
       "    <tr>\n",
       "      <th>Company Name</th>\n",
       "      <th></th>\n",
       "    </tr>\n",
       "  </thead>\n",
       "  <tbody>\n",
       "    <tr>\n",
       "      <th>Gallup</th>\n",
       "      <td>237.5</td>\n",
       "    </tr>\n",
       "    <tr>\n",
       "      <th>Sage Intacct</th>\n",
       "      <td>232.5</td>\n",
       "    </tr>\n",
       "    <tr>\n",
       "      <th>CA-One Tech Cloud</th>\n",
       "      <td>225.0</td>\n",
       "    </tr>\n",
       "    <tr>\n",
       "      <th>Grand Rounds</th>\n",
       "      <td>221.5</td>\n",
       "    </tr>\n",
       "    <tr>\n",
       "      <th>Credit Sesame</th>\n",
       "      <td>205.0</td>\n",
       "    </tr>\n",
       "    <tr>\n",
       "      <th>The Climate Corporation</th>\n",
       "      <td>194.0</td>\n",
       "    </tr>\n",
       "    <tr>\n",
       "      <th>Grainger</th>\n",
       "      <td>179.5</td>\n",
       "    </tr>\n",
       "    <tr>\n",
       "      <th>Samsung Research America</th>\n",
       "      <td>177.0</td>\n",
       "    </tr>\n",
       "    <tr>\n",
       "      <th>Nektar Therapeutics</th>\n",
       "      <td>174.0</td>\n",
       "    </tr>\n",
       "    <tr>\n",
       "      <th>DTCC</th>\n",
       "      <td>173.0</td>\n",
       "    </tr>\n",
       "    <tr>\n",
       "      <th>Two Sigma</th>\n",
       "      <td>172.0</td>\n",
       "    </tr>\n",
       "    <tr>\n",
       "      <th>BioMarin Pharmaceutical</th>\n",
       "      <td>168.0</td>\n",
       "    </tr>\n",
       "    <tr>\n",
       "      <th>Confluent</th>\n",
       "      <td>168.0</td>\n",
       "    </tr>\n",
       "    <tr>\n",
       "      <th>Quartet Health</th>\n",
       "      <td>165.0</td>\n",
       "    </tr>\n",
       "    <tr>\n",
       "      <th>Samba TV</th>\n",
       "      <td>164.5</td>\n",
       "    </tr>\n",
       "    <tr>\n",
       "      <th>Zest AI</th>\n",
       "      <td>164.0</td>\n",
       "    </tr>\n",
       "    <tr>\n",
       "      <th>Wish</th>\n",
       "      <td>163.5</td>\n",
       "    </tr>\n",
       "    <tr>\n",
       "      <th>Adobe</th>\n",
       "      <td>162.0</td>\n",
       "    </tr>\n",
       "    <tr>\n",
       "      <th>Glassdoor</th>\n",
       "      <td>162.0</td>\n",
       "    </tr>\n",
       "    <tr>\n",
       "      <th>Genentech</th>\n",
       "      <td>156.5</td>\n",
       "    </tr>\n",
       "  </tbody>\n",
       "</table>\n",
       "</div>"
      ],
      "text/plain": [
       "                          average_salary\n",
       "Company Name                            \n",
       "Gallup                             237.5\n",
       "Sage Intacct                       232.5\n",
       "CA-One Tech Cloud                  225.0\n",
       "Grand Rounds                       221.5\n",
       "Credit Sesame                      205.0\n",
       "The Climate Corporation            194.0\n",
       "Grainger                           179.5\n",
       "Samsung Research America           177.0\n",
       "Nektar Therapeutics                174.0\n",
       "DTCC                               173.0\n",
       "Two Sigma                          172.0\n",
       "BioMarin Pharmaceutical            168.0\n",
       "Confluent                          168.0\n",
       "Quartet Health                     165.0\n",
       "Samba TV                           164.5\n",
       "Zest AI                            164.0\n",
       "Wish                               163.5\n",
       "Adobe                              162.0\n",
       "Glassdoor                          162.0\n",
       "Genentech                          156.5"
      ]
     },
     "execution_count": 153,
     "metadata": {},
     "output_type": "execute_result"
    }
   ],
   "source": [
    "# Top 20 Companies that pay Data Scientists well\n",
    "pd.pivot_table(df, index='Company Name', values='average_salary').sort_values('average_salary', ascending=False)[:20]"
   ]
  },
  {
   "cell_type": "markdown",
   "metadata": {},
   "source": [
    "## Feature Engineering"
   ]
  },
  {
   "cell_type": "code",
   "execution_count": 154,
   "metadata": {},
   "outputs": [],
   "source": [
    "# Trimming the 'Industry' column\n",
    "\n",
    "# Taking top 11 Industries and replacing others by 'Others'\n",
    "industry_list = ['Biotech & Pharmaceuticals', 'Insurance Carriers', 'Computer Hardware & Software', 'IT Services', 'Health Care Services & Hospitals', \n",
    "                 'Enterprise Software & Network Solutions', 'Consulting', 'Internet', 'Advertising & Marketing', 'Aerospace & Defense', 'Consumer Products Manufacturing']\n",
    "\n",
    "def industry_simplifier(text):\n",
    "      if text not in industry_list:\n",
    "        return 'Others'\n",
    "      else:\n",
    "        return text\n",
    "\n",
    "df['Industry'] = df['Industry'].apply(industry_simplifier)"
   ]
  },
  {
   "cell_type": "code",
   "execution_count": 155,
   "metadata": {},
   "outputs": [],
   "source": [
    "#Trimming the 'job_state' column\n",
    "\n",
    "# Taking top 10 States and replacing others by 'Others'\n",
    "job_state_list = ['CA', 'MA', 'NY', 'VA', 'IL', 'MD', 'PA', 'TX', 'NC', 'WA']\n",
    "\n",
    "def job_state_simplifier(text):\n",
    "    if text not in job_state_list:\n",
    "        return 'Others'\n",
    "    else:\n",
    "        return text\n",
    "\n",
    "df['job_state'] = df['job_state'].apply(job_state_simplifier)"
   ]
  },
  {
   "cell_type": "code",
   "execution_count": 156,
   "metadata": {},
   "outputs": [],
   "source": [
    "# Adding column of 'job_in_headquarters'\n",
    "df['job_in_headquarters'] = df.apply(lambda x: 1 if x['Location'] == x['Headquarters'] else 0, axis=1)"
   ]
  },
  {
   "cell_type": "code",
   "execution_count": 157,
   "metadata": {},
   "outputs": [
    {
     "data": {
      "text/plain": [
       "Index(['Job Title', 'Salary Estimate', 'Job Description', 'Rating',\n",
       "       'Company Name', 'Location', 'Headquarters', 'Size', 'Founded',\n",
       "       'Type of ownership', 'Industry', 'Sector', 'Revenue', 'Competitors',\n",
       "       'salary_per_hour', 'emp-provided-salary', 'min_salary', 'max_salary',\n",
       "       'average_salary', 'job_state', 'company_age', 'python_job', 'r_job',\n",
       "       'spark_job', 'aws_job', 'excel_job', 'job_title_simplified',\n",
       "       'job_seniority', 'job_in_headquarters'],\n",
       "      dtype='object')"
      ]
     },
     "execution_count": 157,
     "metadata": {},
     "output_type": "execute_result"
    }
   ],
   "source": [
    "df.columns"
   ]
  },
  {
   "cell_type": "code",
   "execution_count": 158,
   "metadata": {},
   "outputs": [],
   "source": [
    "# Choosing relevant columns\n",
    "df_model = df.copy(deep=True)\n",
    "df_model = df_model[['average_salary', 'Rating', 'company_age', 'Size', 'Type of ownership', 'Industry', 'Revenue', 'Competitors',\n",
    "               'job_title_simplified', 'job_seniority', 'job_state', 'job_in_headquarters', 'python_job', 'spark_job', 'aws_job', 'excel_job', ]]"
   ]
  },
  {
   "cell_type": "code",
   "execution_count": 159,
   "metadata": {},
   "outputs": [],
   "source": [
    "# Renaming columns\n",
    "df_model.rename(columns={'Rating':'company_rating', 'Size':'company_size', 'Type of ownership':'type_of_ownership',\n",
    "                         'Industry':'industry', 'Revenue':'revenue', 'Competitors':'competitors'}, inplace=True)"
   ]
  },
  {
   "cell_type": "code",
   "execution_count": 160,
   "metadata": {},
   "outputs": [
    {
     "data": {
      "text/plain": [
       "Index(['average_salary', 'company_rating', 'company_age', 'company_size',\n",
       "       'type_of_ownership', 'industry', 'revenue', 'competitors',\n",
       "       'job_title_simplified', 'job_seniority', 'job_state',\n",
       "       'job_in_headquarters', 'python_job', 'spark_job', 'aws_job',\n",
       "       'excel_job'],\n",
       "      dtype='object')"
      ]
     },
     "execution_count": 160,
     "metadata": {},
     "output_type": "execute_result"
    }
   ],
   "source": [
    "df_model.columns"
   ]
  },
  {
   "cell_type": "markdown",
   "metadata": {},
   "source": [
    "### Handling Ordinal Categorical Features"
   ]
  },
  {
   "cell_type": "code",
   "execution_count": 161,
   "metadata": {},
   "outputs": [],
   "source": [
    "# Mapping ranks to 'company_size' columns since it is ordinal categorical feature\n",
    "size_map = {'Unknown': 0, '1 to 50 employees': 1, '51 to 200 employees': 2, '201 to 500 employees': 3,\n",
    "            '501 to 1000 employees': 4, '1001 to 5000 employees': 5, '5001 to 10000 employees': 6, '10000+ employees': 7}\n",
    "\n",
    "df_model['company_size_rank'] = df_model['company_size'].map(size_map)\n",
    "df_model.drop('company_size', axis=True, inplace=True)"
   ]
  },
  {
   "cell_type": "code",
   "execution_count": 162,
   "metadata": {},
   "outputs": [],
   "source": [
    "# Mapping ranks to 'revenue\t' columns since it is ordinal categorical feature\n",
    "revenue_map = {'Unknown / Non-Applicable': 0, 'Less than $1 million (USD)': 1, '$1 to $5 million (USD)': 2, '$5 to $10 million (USD)': 3,\n",
    "            '$10 to $25 million (USD)': 4, '$25 to $50 million (USD)': 5, '$50 to $100 million (USD)': 6, '$100 to $500 million (USD)': 7,\n",
    "            '$500 million to $1 billion (USD)': 8, '$1 to $2 billion (USD)': 9, '$2 to $5 billion (USD)':10, '$5 to $10 billion (USD)':11, '$10+ billion (USD)':12}\n",
    "\n",
    "df_model['company_revenue_rank'] = df_model['revenue'].map(revenue_map)\n",
    "df_model.drop('revenue', axis=True, inplace=True)"
   ]
  },
  {
   "cell_type": "code",
   "execution_count": 163,
   "metadata": {},
   "outputs": [],
   "source": [
    "# Mapping ranks to 'job_seniority' columns since it is ordinal categorical feature\n",
    "job_seniority_map = {'na': 0, 'jr': 1, 'senior': 2}\n",
    "\n",
    "df_model['job_seniority_rank'] = df_model['job_seniority'].map(job_seniority_map)\n",
    "df_model.drop('job_seniority', axis=True, inplace=True)"
   ]
  },
  {
   "cell_type": "markdown",
   "metadata": {},
   "source": [
    "### Handling Nominal Categorical Features"
   ]
  },
  {
   "cell_type": "code",
   "execution_count": 164,
   "metadata": {},
   "outputs": [
    {
     "data": {
      "text/plain": [
       "(742, 24)"
      ]
     },
     "execution_count": 164,
     "metadata": {},
     "output_type": "execute_result"
    }
   ],
   "source": [
    "# Removing 'type_of_ownership' column using get_dummies()\n",
    "df_model = pd.get_dummies(columns=['type_of_ownership'], data=df_model)\n",
    "df_model.shape"
   ]
  },
  {
   "cell_type": "code",
   "execution_count": 165,
   "metadata": {},
   "outputs": [
    {
     "data": {
      "text/plain": [
       "(742, 35)"
      ]
     },
     "execution_count": 165,
     "metadata": {},
     "output_type": "execute_result"
    }
   ],
   "source": [
    "# Removing 'industry' column using get_dummies()\n",
    "df_model = pd.get_dummies(columns=['industry'], data=df_model)\n",
    "df_model.shape"
   ]
  },
  {
   "cell_type": "code",
   "execution_count": 166,
   "metadata": {},
   "outputs": [
    {
     "data": {
      "text/plain": [
       "(742, 41)"
      ]
     },
     "execution_count": 166,
     "metadata": {},
     "output_type": "execute_result"
    }
   ],
   "source": [
    "# Removing 'job_title_simplified' column using get_dummies()\n",
    "df_model = pd.get_dummies(columns=['job_title_simplified'], data=df_model)\n",
    "df_model.shape"
   ]
  },
  {
   "cell_type": "code",
   "execution_count": 167,
   "metadata": {},
   "outputs": [
    {
     "data": {
      "text/plain": [
       "(742, 51)"
      ]
     },
     "execution_count": 167,
     "metadata": {},
     "output_type": "execute_result"
    }
   ],
   "source": [
    "# Removing 'job_state' column using get_dummies()\n",
    "df_model = pd.get_dummies(columns=['job_state'], data=df_model)\n",
    "df_model.shape"
   ]
  },
  {
   "cell_type": "markdown",
   "metadata": {},
   "source": [
    "### Feature scaling"
   ]
  },
  {
   "cell_type": "code",
   "execution_count": 168,
   "metadata": {},
   "outputs": [
    {
     "data": {
      "text/html": [
       "<div>\n",
       "<style scoped>\n",
       "    .dataframe tbody tr th:only-of-type {\n",
       "        vertical-align: middle;\n",
       "    }\n",
       "\n",
       "    .dataframe tbody tr th {\n",
       "        vertical-align: top;\n",
       "    }\n",
       "\n",
       "    .dataframe thead th {\n",
       "        text-align: right;\n",
       "    }\n",
       "</style>\n",
       "<table border=\"1\" class=\"dataframe\">\n",
       "  <thead>\n",
       "    <tr style=\"text-align: right;\">\n",
       "      <th></th>\n",
       "      <th>average_salary</th>\n",
       "      <th>company_rating</th>\n",
       "      <th>company_age</th>\n",
       "      <th>competitors</th>\n",
       "      <th>job_in_headquarters</th>\n",
       "      <th>python_job</th>\n",
       "      <th>spark_job</th>\n",
       "      <th>aws_job</th>\n",
       "      <th>excel_job</th>\n",
       "      <th>company_size_rank</th>\n",
       "      <th>company_revenue_rank</th>\n",
       "      <th>job_seniority_rank</th>\n",
       "      <th>type_of_ownership_College / University</th>\n",
       "      <th>type_of_ownership_Government</th>\n",
       "      <th>type_of_ownership_Hospital</th>\n",
       "      <th>type_of_ownership_Nonprofit Organization</th>\n",
       "      <th>type_of_ownership_Other Organization</th>\n",
       "      <th>type_of_ownership_Private</th>\n",
       "      <th>type_of_ownership_Public</th>\n",
       "      <th>type_of_ownership_School / School District</th>\n",
       "    </tr>\n",
       "  </thead>\n",
       "  <tbody>\n",
       "    <tr>\n",
       "      <th>0</th>\n",
       "      <td>72.0</td>\n",
       "      <td>3.8</td>\n",
       "      <td>47</td>\n",
       "      <td>0</td>\n",
       "      <td>0</td>\n",
       "      <td>1</td>\n",
       "      <td>0</td>\n",
       "      <td>0</td>\n",
       "      <td>1</td>\n",
       "      <td>4</td>\n",
       "      <td>6.0</td>\n",
       "      <td>0</td>\n",
       "      <td>0</td>\n",
       "      <td>0</td>\n",
       "      <td>0</td>\n",
       "      <td>0</td>\n",
       "      <td>0</td>\n",
       "      <td>1</td>\n",
       "      <td>0</td>\n",
       "      <td>0</td>\n",
       "    </tr>\n",
       "    <tr>\n",
       "      <th>1</th>\n",
       "      <td>87.5</td>\n",
       "      <td>3.4</td>\n",
       "      <td>36</td>\n",
       "      <td>0</td>\n",
       "      <td>0</td>\n",
       "      <td>1</td>\n",
       "      <td>0</td>\n",
       "      <td>0</td>\n",
       "      <td>0</td>\n",
       "      <td>7</td>\n",
       "      <td>10.0</td>\n",
       "      <td>0</td>\n",
       "      <td>0</td>\n",
       "      <td>0</td>\n",
       "      <td>0</td>\n",
       "      <td>0</td>\n",
       "      <td>1</td>\n",
       "      <td>0</td>\n",
       "      <td>0</td>\n",
       "      <td>0</td>\n",
       "    </tr>\n",
       "    <tr>\n",
       "      <th>2</th>\n",
       "      <td>85.0</td>\n",
       "      <td>4.8</td>\n",
       "      <td>10</td>\n",
       "      <td>0</td>\n",
       "      <td>1</td>\n",
       "      <td>1</td>\n",
       "      <td>1</td>\n",
       "      <td>0</td>\n",
       "      <td>1</td>\n",
       "      <td>4</td>\n",
       "      <td>7.0</td>\n",
       "      <td>0</td>\n",
       "      <td>0</td>\n",
       "      <td>0</td>\n",
       "      <td>0</td>\n",
       "      <td>0</td>\n",
       "      <td>0</td>\n",
       "      <td>1</td>\n",
       "      <td>0</td>\n",
       "      <td>0</td>\n",
       "    </tr>\n",
       "    <tr>\n",
       "      <th>3</th>\n",
       "      <td>76.5</td>\n",
       "      <td>3.8</td>\n",
       "      <td>55</td>\n",
       "      <td>3</td>\n",
       "      <td>1</td>\n",
       "      <td>1</td>\n",
       "      <td>0</td>\n",
       "      <td>0</td>\n",
       "      <td>0</td>\n",
       "      <td>5</td>\n",
       "      <td>8.0</td>\n",
       "      <td>0</td>\n",
       "      <td>0</td>\n",
       "      <td>1</td>\n",
       "      <td>0</td>\n",
       "      <td>0</td>\n",
       "      <td>0</td>\n",
       "      <td>0</td>\n",
       "      <td>0</td>\n",
       "      <td>0</td>\n",
       "    </tr>\n",
       "    <tr>\n",
       "      <th>4</th>\n",
       "      <td>114.5</td>\n",
       "      <td>2.9</td>\n",
       "      <td>22</td>\n",
       "      <td>3</td>\n",
       "      <td>1</td>\n",
       "      <td>1</td>\n",
       "      <td>0</td>\n",
       "      <td>0</td>\n",
       "      <td>1</td>\n",
       "      <td>2</td>\n",
       "      <td>0.0</td>\n",
       "      <td>0</td>\n",
       "      <td>0</td>\n",
       "      <td>0</td>\n",
       "      <td>0</td>\n",
       "      <td>0</td>\n",
       "      <td>0</td>\n",
       "      <td>1</td>\n",
       "      <td>0</td>\n",
       "      <td>0</td>\n",
       "    </tr>\n",
       "  </tbody>\n",
       "</table>\n",
       "</div>"
      ],
      "text/plain": [
       "   average_salary  company_rating  company_age  competitors  \\\n",
       "0            72.0             3.8           47            0   \n",
       "1            87.5             3.4           36            0   \n",
       "2            85.0             4.8           10            0   \n",
       "3            76.5             3.8           55            3   \n",
       "4           114.5             2.9           22            3   \n",
       "\n",
       "   job_in_headquarters  python_job  spark_job  aws_job  excel_job  \\\n",
       "0                    0           1          0        0          1   \n",
       "1                    0           1          0        0          0   \n",
       "2                    1           1          1        0          1   \n",
       "3                    1           1          0        0          0   \n",
       "4                    1           1          0        0          1   \n",
       "\n",
       "   company_size_rank  company_revenue_rank  job_seniority_rank  \\\n",
       "0                  4                   6.0                   0   \n",
       "1                  7                  10.0                   0   \n",
       "2                  4                   7.0                   0   \n",
       "3                  5                   8.0                   0   \n",
       "4                  2                   0.0                   0   \n",
       "\n",
       "   type_of_ownership_College / University  type_of_ownership_Government  \\\n",
       "0                                       0                             0   \n",
       "1                                       0                             0   \n",
       "2                                       0                             0   \n",
       "3                                       0                             1   \n",
       "4                                       0                             0   \n",
       "\n",
       "   type_of_ownership_Hospital  type_of_ownership_Nonprofit Organization  \\\n",
       "0                           0                                         0   \n",
       "1                           0                                         0   \n",
       "2                           0                                         0   \n",
       "3                           0                                         0   \n",
       "4                           0                                         0   \n",
       "\n",
       "   type_of_ownership_Other Organization  type_of_ownership_Private  \\\n",
       "0                                     0                          1   \n",
       "1                                     1                          0   \n",
       "2                                     0                          1   \n",
       "3                                     0                          0   \n",
       "4                                     0                          1   \n",
       "\n",
       "   type_of_ownership_Public  type_of_ownership_School / School District  \n",
       "0                         0                                           0  \n",
       "1                         0                                           0  \n",
       "2                         0                                           0  \n",
       "3                         0                                           0  \n",
       "4                         0                                           0  "
      ]
     },
     "execution_count": 168,
     "metadata": {},
     "output_type": "execute_result"
    }
   ],
   "source": [
    "df_model.head().iloc[:, :20]"
   ]
  },
  {
   "cell_type": "code",
   "execution_count": 169,
   "metadata": {},
   "outputs": [
    {
     "data": {
      "text/plain": [
       "(742, 51)"
      ]
     },
     "execution_count": 169,
     "metadata": {},
     "output_type": "execute_result"
    }
   ],
   "source": [
    "df_model.shape"
   ]
  },
  {
   "cell_type": "code",
   "execution_count": 170,
   "metadata": {},
   "outputs": [],
   "source": [
    "df_model.fillna(-999, inplace=True)"
   ]
  },
  {
   "cell_type": "code",
   "execution_count": 208,
   "metadata": {},
   "outputs": [],
   "source": [
    "x = df_model.drop('average_salary', axis=1)\n",
    "y = df_model['average_salary']"
   ]
  },
  {
   "cell_type": "code",
   "execution_count": 172,
   "metadata": {},
   "outputs": [],
   "source": [
    "from sklearn.preprocessing import MinMaxScaler\n",
    "scaler = MinMaxScaler()\n",
    "columns_to_scale = ['company_rating', 'competitors', 'company_age', 'company_size_rank', 'company_revenue_rank']\n",
    "x[columns_to_scale] = scaler.fit_transform(x[columns_to_scale])"
   ]
  },
  {
   "cell_type": "code",
   "execution_count": 173,
   "metadata": {},
   "outputs": [
    {
     "name": "stdout",
     "output_type": "stream",
     "text": [
      "Training set size: (593, 50) and Testing set size: (149, 50)\n"
     ]
    }
   ],
   "source": [
    "# Splitting the dataset into train and test set\n",
    "from sklearn.model_selection import train_test_split\n",
    "X_train, X_test, y_train, y_test = train_test_split(x, y, test_size=0.20, random_state=42)\n",
    "print(\"Training set size: {} and Testing set size: {}\".format(X_train.shape, X_test.shape))"
   ]
  }
 ],
 "metadata": {
  "kernelspec": {
   "display_name": "Python 3",
   "language": "python",
   "name": "python3"
  },
  "language_info": {
   "codemirror_mode": {
    "name": "ipython",
    "version": 3
   },
   "file_extension": ".py",
   "mimetype": "text/x-python",
   "name": "python",
   "nbconvert_exporter": "python",
   "pygments_lexer": "ipython3",
   "version": "3.7.7"
  }
 },
 "nbformat": 4,
 "nbformat_minor": 4
}
